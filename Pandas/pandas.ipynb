{
 "cells": [
  {
   "cell_type": "markdown",
   "id": "c5249672",
   "metadata": {},
   "source": [
    "# Pandas Playground"
   ]
  },
  {
   "cell_type": "markdown",
   "id": "793c05d9",
   "metadata": {},
   "source": [
    "## Basics"
   ]
  },
  {
   "cell_type": "markdown",
   "id": "c163df6a",
   "metadata": {},
   "source": [
    "### Creating DataFrames, Index/Columns, Basic Functionality"
   ]
  },
  {
   "cell_type": "code",
   "execution_count": null,
   "id": "af3c28f4",
   "metadata": {},
   "outputs": [],
   "source": [
    "import pandas as pd\n",
    "\n",
    "df = pd.DataFrame([[1,2,3],[4,5,6],[7,8,9]], columns=[\"A\", \"B\", \"C\"], index=[\"x\",\"y\",\"z\"])\n",
    "df.head() # all rows\n",
    "df.head(1) # specific row\n",
    "df.tail(2) # bottow 2 rows\n",
    "df.index.to_list() # find indices (indices instead of rows)\n",
    "\n",
    "# Info\n",
    "df.info() # concise info overview\n",
    "df.describe() # summary of statistics\n",
    "df.size # num of elements\n",
    "\n",
    "# Unique values\n",
    "df.nunique()\n",
    "df[\"A\"].unique\n",
    "\n",
    "df.shape\n"
   ]
  }
 ],
 "metadata": {
  "kernelspec": {
   "display_name": "Python 3",
   "language": "python",
   "name": "python3"
  },
  "language_info": {
   "codemirror_mode": {
    "name": "ipython",
    "version": 3
   },
   "file_extension": ".py",
   "mimetype": "text/x-python",
   "name": "python",
   "nbconvert_exporter": "python",
   "pygments_lexer": "ipython3",
   "version": "3.13.1"
  }
 },
 "nbformat": 4,
 "nbformat_minor": 5
}
