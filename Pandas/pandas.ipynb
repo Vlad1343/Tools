{
 "cells": [
  {
   "cell_type": "markdown",
   "id": "c5249672",
   "metadata": {},
   "source": [
    "# Pandas Playground"
   ]
  },
  {
   "cell_type": "markdown",
   "id": "793c05d9",
   "metadata": {},
   "source": [
    "## Basics"
   ]
  },
  {
   "cell_type": "markdown",
   "id": "1fe0e58d",
   "metadata": {},
   "source": [
    "### DataFrames from Files"
   ]
  },
  {
   "cell_type": "code",
   "execution_count": null,
   "id": "fcb4df23",
   "metadata": {},
   "outputs": [],
   "source": [
    "import pandas as pd\n",
    "\n",
    "pokemon = pd.read_csv(\"/Users/vladyslavshutkevych/Desktop/Tools/Pandas/data/pokemon_data.csv\")\n",
    "pokemon.head()\n",
    "\n",
    "df1 = pd.read_excel(\"/Users/vladyslavshutkevych/Desktop/Tools/Pandas/data/pokemon_data.xlsx\")\n",
    "df1.head()\n",
    "\n",
    "df2 = pd.read_csv(\"/Users/vladyslavshutkevych/Desktop/Tools/Pandas/data/pokemon_data.txt\", delimiter=\"\\t\")\n",
    "df2.head()\n"
   ]
  },
  {
   "cell_type": "markdown",
   "id": "d7811999",
   "metadata": {},
   "source": [
    "### Reading Data"
   ]
  },
  {
   "cell_type": "code",
   "execution_count": null,
   "id": "fcfade8a",
   "metadata": {},
   "outputs": [],
   "source": [
    "# Read headers\n",
    "df1.columns\n",
    "\n",
    "# Read each Column\n",
    "df1[\"Name\"][0:5]\n",
    "df1[[\"Name\", \"Type 1\", \"HP\"]]\n",
    "df1.Name\n",
    "\n",
    "# Read each Row\n",
    "df1.iloc[1] # everything about second row\n",
    "df1.iloc[0:4]\n",
    "# for index, row in df1.iterrows():\n",
    "#     print(index, row[\"Name\"])\n",
    "\n",
    "df1.loc[df1['Type 1'] == 'Fire']\n",
    "\n",
    "# Read a specific Location (R, C)\n",
    "# df1.iloc[2,1]"
   ]
  },
  {
   "cell_type": "markdown",
   "id": "92cc6849",
   "metadata": {},
   "source": [
    "### Sorting/Describing Data"
   ]
  },
  {
   "cell_type": "code",
   "execution_count": null,
   "id": "330ae3b1",
   "metadata": {},
   "outputs": [],
   "source": [
    "df1.sort_values('Name')\n",
    "df1.sort_values('Name', ascending=False)\n",
    "df1.sort_values(['Type 1', 'HP'], ascending=[1,0]) # [ascending, descending]\n",
    "\n"
   ]
  },
  {
   "cell_type": "markdown",
   "id": "c163df6a",
   "metadata": {},
   "source": [
    "### Creating DataFrames, Index/Columns, Basic Functionality"
   ]
  },
  {
   "cell_type": "code",
   "execution_count": null,
   "id": "af3c28f4",
   "metadata": {},
   "outputs": [],
   "source": [
    "\n",
    "\n",
    "df = pd.DataFrame([[1,2,3],[4,5,6],[7,8,9]], columns=[\"A\", \"B\", \"C\"], index=[\"x\",\"y\",\"z\"])\n",
    "df.head() # all rows\n",
    "df.head(1) # specific row\n",
    "df.tail(2) # bottow 2 rows\n",
    "df.index.to_list() # find indices (indices instead of rows)\n",
    "df1.columns\n",
    "\n",
    "# Info\n",
    "df.info() # concise info overview\n",
    "df.describe() # summary of statistics\n",
    "df.size # num of elements\n",
    "\n",
    "# Unique values\n",
    "df.nunique()\n",
    "df[\"A\"].unique\n",
    "\n",
    "df.shape\n"
   ]
  }
 ],
 "metadata": {
  "kernelspec": {
   "display_name": "Python 3",
   "language": "python",
   "name": "python3"
  },
  "language_info": {
   "codemirror_mode": {
    "name": "ipython",
    "version": 3
   },
   "file_extension": ".py",
   "mimetype": "text/x-python",
   "name": "python",
   "nbconvert_exporter": "python",
   "pygments_lexer": "ipython3",
   "version": "3.13.1"
  }
 },
 "nbformat": 4,
 "nbformat_minor": 5
}
