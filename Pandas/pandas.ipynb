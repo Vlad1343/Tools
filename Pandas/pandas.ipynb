{
 "cells": [
  {
   "cell_type": "markdown",
   "id": "c5249672",
   "metadata": {},
   "source": [
    "# Pandas Playground"
   ]
  },
  {
   "cell_type": "markdown",
   "id": "793c05d9",
   "metadata": {},
   "source": [
    "## Basics"
   ]
  },
  {
   "cell_type": "markdown",
   "id": "1fe0e58d",
   "metadata": {},
   "source": [
    "### DataFrames from Files"
   ]
  },
  {
   "cell_type": "code",
   "execution_count": null,
   "id": "fcb4df23",
   "metadata": {},
   "outputs": [],
   "source": [
    "import pandas as pd\n",
    "\n",
    "pokemon = pd.read_csv(\"/Users/vladyslavshutkevych/Desktop/Tools/Pandas/data/pokemon_data.csv\")\n",
    "pokemon.head()\n",
    "\n",
    "df1 = pd.read_excel(\"/Users/vladyslavshutkevych/Desktop/Tools/Pandas/data/pokemon_data.xlsx\")\n",
    "df1.head()\n",
    "\n",
    "df2 = pd.read_csv(\"/Users/vladyslavshutkevych/Desktop/Tools/Pandas/data/pokemon_data.txt\", delimiter=\"\\t\")\n",
    "df2.head()\n"
   ]
  },
  {
   "cell_type": "markdown",
   "id": "d7811999",
   "metadata": {},
   "source": [
    "### Reading Data"
   ]
  },
  {
   "cell_type": "code",
   "execution_count": null,
   "id": "fcfade8a",
   "metadata": {},
   "outputs": [],
   "source": [
    "# Read headers\n",
    "df1.columns\n",
    "\n",
    "# Read each Column\n",
    "df1[\"Name\"][0:5]\n",
    "df1[[\"Name\", \"Type 1\", \"HP\"]]\n",
    "df1.Name\n",
    "\n",
    "# Read each Row\n",
    "df1.iloc[1] # everything about second row\n",
    "df1.iloc[0:4]\n",
    "# for index, row in df1.iterrows():\n",
    "#     print(index, row[\"Name\"])\n",
    "\n",
    "df1.loc[df1['Type 1'] == 'Fire']\n",
    "\n",
    "# Read a specific Location (R, C)\n",
    "df1.iloc[2,1]"
   ]
  },
  {
   "cell_type": "markdown",
   "id": "92cc6849",
   "metadata": {},
   "source": [
    "### Sorting/Describing Data"
   ]
  },
  {
   "cell_type": "code",
   "execution_count": null,
   "id": "330ae3b1",
   "metadata": {},
   "outputs": [],
   "source": [
    "df1.sort_values('Name')\n",
    "df1.sort_values('Name', ascending=False)\n",
    "df1.sort_values(['Type 1', 'HP'], ascending=[1,0]) # [ascending, descending]"
   ]
  },
  {
   "cell_type": "markdown",
   "id": "c05e4cb9",
   "metadata": {},
   "source": [
    "### Changing Data"
   ]
  },
  {
   "cell_type": "code",
   "execution_count": null,
   "id": "03d36dfb",
   "metadata": {},
   "outputs": [],
   "source": [
    "df1['Total'] = df1.iloc[:, 4:10].sum(axis=1) # horizontal sum\n",
    "# df1['Total'] = df1.loc[:, 'HP':'Speed'].sum(axis=1) # stays even after commenting\n",
    "\n",
    "# df1 = df1.drop(columns=['Total'])\n",
    "\n",
    "columns = list(df1.columns.values)\n",
    "# df1 = df1[['Total', 'HP', 'Defense']] # bad way\n",
    "df1 = df1[columns[0:4] + [columns[-1]] + columns[4:12]]\n",
    "df1.head(5)\n"
   ]
  },
  {
   "cell_type": "markdown",
   "id": "544584c4",
   "metadata": {},
   "source": [
    "### Saving Data"
   ]
  },
  {
   "cell_type": "code",
   "execution_count": null,
   "id": "f42ef877",
   "metadata": {},
   "outputs": [],
   "source": [
    "# df1.to_csv('data/modified.csv') # save file\n",
    "\n",
    "# df1.to_csv('data/modified.csv', index=False) # ignore indicies\n",
    "# df1.to_excel('data/modified.xlsx', index=False)\n",
    "# df1.to_csv('data/modified.txt', index=False, sep='\\t')\n"
   ]
  },
  {
   "cell_type": "markdown",
   "id": "540c9ae4",
   "metadata": {},
   "source": [
    "### Filtering Data"
   ]
  },
  {
   "cell_type": "code",
   "execution_count": 18,
   "id": "b1710069",
   "metadata": {},
   "outputs": [
    {
     "data": {
      "text/html": [
       "<div>\n",
       "<style scoped>\n",
       "    .dataframe tbody tr th:only-of-type {\n",
       "        vertical-align: middle;\n",
       "    }\n",
       "\n",
       "    .dataframe tbody tr th {\n",
       "        vertical-align: top;\n",
       "    }\n",
       "\n",
       "    .dataframe thead th {\n",
       "        text-align: right;\n",
       "    }\n",
       "</style>\n",
       "<table border=\"1\" class=\"dataframe\">\n",
       "  <thead>\n",
       "    <tr style=\"text-align: right;\">\n",
       "      <th></th>\n",
       "      <th>#</th>\n",
       "      <th>Name</th>\n",
       "      <th>Type 1</th>\n",
       "      <th>Type 2</th>\n",
       "      <th>Total</th>\n",
       "      <th>HP</th>\n",
       "      <th>Attack</th>\n",
       "      <th>Defense</th>\n",
       "      <th>Sp. Atk</th>\n",
       "      <th>Sp. Def</th>\n",
       "      <th>Speed</th>\n",
       "      <th>Generation</th>\n",
       "      <th>Legendary</th>\n",
       "    </tr>\n",
       "  </thead>\n",
       "  <tbody>\n",
       "    <tr>\n",
       "      <th>0</th>\n",
       "      <td>3</td>\n",
       "      <td>Venusaur</td>\n",
       "      <td>Grass</td>\n",
       "      <td>Poison</td>\n",
       "      <td>525</td>\n",
       "      <td>80</td>\n",
       "      <td>82</td>\n",
       "      <td>83</td>\n",
       "      <td>100</td>\n",
       "      <td>100</td>\n",
       "      <td>80</td>\n",
       "      <td>1</td>\n",
       "      <td>False</td>\n",
       "    </tr>\n",
       "    <tr>\n",
       "      <th>1</th>\n",
       "      <td>3</td>\n",
       "      <td>VenusaurMega Venusaur</td>\n",
       "      <td>Grass</td>\n",
       "      <td>Poison</td>\n",
       "      <td>625</td>\n",
       "      <td>80</td>\n",
       "      <td>100</td>\n",
       "      <td>123</td>\n",
       "      <td>122</td>\n",
       "      <td>120</td>\n",
       "      <td>80</td>\n",
       "      <td>1</td>\n",
       "      <td>False</td>\n",
       "    </tr>\n",
       "    <tr>\n",
       "      <th>2</th>\n",
       "      <td>45</td>\n",
       "      <td>Vileplume</td>\n",
       "      <td>Grass</td>\n",
       "      <td>Poison</td>\n",
       "      <td>490</td>\n",
       "      <td>75</td>\n",
       "      <td>80</td>\n",
       "      <td>85</td>\n",
       "      <td>110</td>\n",
       "      <td>90</td>\n",
       "      <td>50</td>\n",
       "      <td>1</td>\n",
       "      <td>False</td>\n",
       "    </tr>\n",
       "    <tr>\n",
       "      <th>3</th>\n",
       "      <td>71</td>\n",
       "      <td>Victreebel</td>\n",
       "      <td>Grass</td>\n",
       "      <td>Poison</td>\n",
       "      <td>490</td>\n",
       "      <td>80</td>\n",
       "      <td>105</td>\n",
       "      <td>65</td>\n",
       "      <td>100</td>\n",
       "      <td>70</td>\n",
       "      <td>70</td>\n",
       "      <td>1</td>\n",
       "      <td>False</td>\n",
       "    </tr>\n",
       "    <tr>\n",
       "      <th>4</th>\n",
       "      <td>591</td>\n",
       "      <td>Amoonguss</td>\n",
       "      <td>Grass</td>\n",
       "      <td>Poison</td>\n",
       "      <td>464</td>\n",
       "      <td>114</td>\n",
       "      <td>85</td>\n",
       "      <td>70</td>\n",
       "      <td>85</td>\n",
       "      <td>80</td>\n",
       "      <td>30</td>\n",
       "      <td>5</td>\n",
       "      <td>False</td>\n",
       "    </tr>\n",
       "  </tbody>\n",
       "</table>\n",
       "</div>"
      ],
      "text/plain": [
       "     #                   Name Type 1  Type 2  Total   HP  Attack  Defense  \\\n",
       "0    3               Venusaur  Grass  Poison    525   80      82       83   \n",
       "1    3  VenusaurMega Venusaur  Grass  Poison    625   80     100      123   \n",
       "2   45              Vileplume  Grass  Poison    490   75      80       85   \n",
       "3   71             Victreebel  Grass  Poison    490   80     105       65   \n",
       "4  591              Amoonguss  Grass  Poison    464  114      85       70   \n",
       "\n",
       "   Sp. Atk  Sp. Def  Speed  Generation  Legendary  \n",
       "0      100      100     80           1      False  \n",
       "1      122      120     80           1      False  \n",
       "2      110       90     50           1      False  \n",
       "3      100       70     70           1      False  \n",
       "4       85       80     30           5      False  "
      ]
     },
     "execution_count": 18,
     "metadata": {},
     "output_type": "execute_result"
    }
   ],
   "source": [
    "df1.loc[df1['Type 1'] == 'Grass'] # loc - choose by labels instead of indices\n",
    "new_df = df1.loc[(df1['Type 1'] == 'Grass') & (df1['Type 2'] == 'Poison') & (df1['HP'] > 70)]\n",
    "\n",
    "new_df = new_df.reset_index(drop=True) # reset index after filtering\n",
    "# or\n",
    "new_df.reset_index(drop=True, inplace=True)\n",
    "new_df.head(5)\n"
   ]
  },
  {
   "cell_type": "markdown",
   "id": "c163df6a",
   "metadata": {},
   "source": [
    "### Creating DataFrames, Index/Columns, Basic Functionality"
   ]
  },
  {
   "cell_type": "code",
   "execution_count": null,
   "id": "af3c28f4",
   "metadata": {},
   "outputs": [],
   "source": [
    "\n",
    "\n",
    "df = pd.DataFrame([[1,2,3],[4,5,6],[7,8,9]], columns=[\"A\", \"B\", \"C\"], index=[\"x\",\"y\",\"z\"])\n",
    "df.head() # all rows\n",
    "df.head(1) # specific row\n",
    "df.tail(2) # bottow 2 rows\n",
    "df.index.to_list() # find indices (indices instead of rows)\n",
    "df1.columns\n",
    "\n",
    "# Info\n",
    "df.info() # concise info overview\n",
    "df.describe() # summary of statistics\n",
    "df.size # num of elements\n",
    "\n",
    "# Unique values\n",
    "df.nunique()\n",
    "df[\"A\"].unique\n",
    "\n",
    "df.shape\n"
   ]
  }
 ],
 "metadata": {
  "kernelspec": {
   "display_name": "Python 3",
   "language": "python",
   "name": "python3"
  },
  "language_info": {
   "codemirror_mode": {
    "name": "ipython",
    "version": 3
   },
   "file_extension": ".py",
   "mimetype": "text/x-python",
   "name": "python",
   "nbconvert_exporter": "python",
   "pygments_lexer": "ipython3",
   "version": "3.13.1"
  }
 },
 "nbformat": 4,
 "nbformat_minor": 5
}
