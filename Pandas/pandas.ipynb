{
 "cells": [
  {
   "cell_type": "markdown",
   "id": "c5249672",
   "metadata": {},
   "source": [
    "# Pandas Playground"
   ]
  },
  {
   "cell_type": "markdown",
   "id": "793c05d9",
   "metadata": {},
   "source": [
    "## Basics"
   ]
  },
  {
   "cell_type": "markdown",
   "id": "1fe0e58d",
   "metadata": {},
   "source": [
    "### DataFrames from Files"
   ]
  },
  {
   "cell_type": "code",
   "execution_count": null,
   "id": "fcb4df23",
   "metadata": {},
   "outputs": [],
   "source": [
    "import pandas as pd\n",
    "\n",
    "pokemon = pd.read_csv(\"/Users/vladyslavshutkevych/Desktop/Tools/Pandas/data/pokemon_data.csv\")\n",
    "pokemon.head()\n",
    "\n",
    "df1 = pd.read_excel(\"/Users/vladyslavshutkevych/Desktop/Tools/Pandas/data/pokemon_data.xlsx\")\n",
    "df1.head()\n",
    "\n",
    "df2 = pd.read_csv(\"/Users/vladyslavshutkevych/Desktop/Tools/Pandas/data/pokemon_data.txt\", delimiter=\"\\t\")\n",
    "df2.head()\n"
   ]
  },
  {
   "cell_type": "markdown",
   "id": "af7b8eca",
   "metadata": {},
   "source": [
    "### Creating DataFrames, Index/Columns, Basic Functionality"
   ]
  },
  {
   "cell_type": "code",
   "execution_count": null,
   "id": "17a3e841",
   "metadata": {},
   "outputs": [],
   "source": [
    "\n",
    "df = pd.DataFrame([[1,2,3],[4,5,6],[7,8,9]], columns=[\"A\", \"B\", \"C\"], index=[\"x\",\"y\",\"z\"])\n",
    "df.head() # all rows\n",
    "df.head(1) # specific row\n",
    "df.tail(2) # bottow 2 rows\n",
    "df.index.to_list() # find indices (indices instead of rows)\n",
    "df1.columns\n",
    "\n",
    "# Info\n",
    "df.info() # concise info overview\n",
    "df.describe() # summary of statistics\n",
    "df.size # num of elements\n",
    "\n",
    "# Unique values\n",
    "df.nunique()\n",
    "df[\"A\"].unique\n",
    "\n",
    "df.shape\n"
   ]
  },
  {
   "cell_type": "markdown",
   "id": "d7811999",
   "metadata": {},
   "source": [
    "### Reading Data"
   ]
  },
  {
   "cell_type": "code",
   "execution_count": null,
   "id": "fcfade8a",
   "metadata": {},
   "outputs": [],
   "source": [
    "# Read headers\n",
    "df1.columns\n",
    "\n",
    "# Read each Column\n",
    "df1[\"Name\"][0:5]\n",
    "df1[[\"Name\", \"Type 1\", \"HP\"]]\n",
    "df1.Name\n",
    "\n",
    "# Read each Row\n",
    "df1.iloc[1] # everything about second row\n",
    "df1.iloc[0:4]\n",
    "# for index, row in df1.iterrows():\n",
    "#     print(index, row[\"Name\"])\n",
    "\n",
    "df1.loc[df1['Type 1'] == 'Fire']\n",
    "\n",
    "# Read a specific Location (R, C)\n",
    "df1.iloc[2,1]"
   ]
  },
  {
   "cell_type": "markdown",
   "id": "92cc6849",
   "metadata": {},
   "source": [
    "### Sorting/Describing Data"
   ]
  },
  {
   "cell_type": "code",
   "execution_count": null,
   "id": "330ae3b1",
   "metadata": {},
   "outputs": [],
   "source": [
    "df1.sort_values('Name')\n",
    "df1.sort_values('Name', ascending=False)\n",
    "df1.sort_values(['Type 1', 'HP'], ascending=[1,0]) # [ascending, descending]"
   ]
  },
  {
   "cell_type": "markdown",
   "id": "c05e4cb9",
   "metadata": {},
   "source": [
    "### Changing Data"
   ]
  },
  {
   "cell_type": "code",
   "execution_count": null,
   "id": "03d36dfb",
   "metadata": {},
   "outputs": [],
   "source": [
    "df1['Total'] = df1.iloc[:, 4:10].sum(axis=1) # horizontal sum\n",
    "# df1['Total'] = df1.loc[:, 'HP':'Speed'].sum(axis=1) # stays even after commenting\n",
    "\n",
    "# df1 = df1.drop(columns=['Total'])\n",
    "\n",
    "columns = list(df1.columns.values)\n",
    "# df1 = df1[['Total', 'HP', 'Defense']] # bad way\n",
    "df1 = df1[columns[0:4] + [columns[-1]] + columns[4:12]]\n",
    "df1.head(5)\n"
   ]
  },
  {
   "cell_type": "markdown",
   "id": "544584c4",
   "metadata": {},
   "source": [
    "### Saving Data"
   ]
  },
  {
   "cell_type": "code",
   "execution_count": null,
   "id": "f42ef877",
   "metadata": {},
   "outputs": [],
   "source": [
    "# df1.to_csv('data/modified.csv') # save file\n",
    "\n",
    "# df1.to_csv('data/modified.csv', index=False) # ignore indicies\n",
    "# df1.to_excel('data/modified.xlsx', index=False)\n",
    "# df1.to_csv('data/modified.txt', index=False, sep='\\t')\n"
   ]
  },
  {
   "cell_type": "markdown",
   "id": "540c9ae4",
   "metadata": {},
   "source": [
    "### Filtering Data"
   ]
  },
  {
   "cell_type": "code",
   "execution_count": null,
   "id": "b1710069",
   "metadata": {},
   "outputs": [],
   "source": [
    "df1.loc[df1['Type 1'] == 'Grass'] # loc - choose by labels instead of indices\n",
    "new_df = df1.loc[(df1['Type 1'] == 'Grass') & (df1['Type 2'] == 'Poison') & (df1['HP'] > 70)]\n",
    "\n",
    "new_df = new_df.reset_index(drop=True) # reset index after filtering\n",
    "# or\n",
    "new_df.reset_index(drop=True, inplace=True)\n",
    "new_df.head(5)\n",
    "\n",
    "mega = df1.loc[df1['Name'].str.contains('Mega')] # filter by string\n",
    "mega_not = df1.loc[~df1['Name'].str.contains('Mega')] # everything except Mega\n",
    "mega.head(5)\n"
   ]
  },
  {
   "cell_type": "code",
   "execution_count": null,
   "id": "1b7e16c3",
   "metadata": {},
   "outputs": [],
   "source": [
    "import re\n",
    "mega = df1.loc[df1['Type 1'].str.contains('fire|grass', flags=re.IGNORECASE, regex=True)]\n",
    "\n",
    "mega = df1.loc[df1['Name'].str.contains('pi[a-z]*', flags=re.IGNORECASE, regex=True)] # contains pi followed by any letters\n",
    "mega = df1.loc[df1['Name'].str.contains('^pi[a-z]*', flags=re.IGNORECASE, regex=True)] # starts with pi\n",
    "mega = df1.loc[df1['Name'].str.contains('pi[a-z]*$', flags=re.IGNORECASE, regex=True)] # ends with pi\n"
   ]
  },
  {
   "cell_type": "markdown",
   "id": "6b5a77d4",
   "metadata": {},
   "source": [
    "### Conditional Changes"
   ]
  },
  {
   "cell_type": "code",
   "execution_count": null,
   "id": "fb0f2ae8",
   "metadata": {},
   "outputs": [],
   "source": [
    "df1.loc[df1['Type 1'] == 'Fire', 'Type 1'] = 'Flamer' # change values (specific column)\n",
    "df1.loc[df1['Type 1'] == 'Grass', 'Legendary'] = True # all values in Legendary column become True if Type 1 is Grass\n",
    "\n",
    "df1.loc[df1['Total'] > 500, ['Generation', 'Legendary']] = 'TEST VALUE' # for multiple columns\n",
    "df1.loc[df1['Total'] > 500, ['Generation', 'Legendary']] = ['Test 1', 'Test 2'] # change multiple columns at once\n",
    "df1"
   ]
  },
  {
   "cell_type": "markdown",
   "id": "e6e8c226",
   "metadata": {},
   "source": [
    "### Aggregate Statistics (Groupby)"
   ]
  },
  {
   "cell_type": "code",
   "execution_count": null,
   "id": "41c9b829",
   "metadata": {},
   "outputs": [],
   "source": [
    "df = pd.read_excel(\"/Users/vladyslavshutkevych/Desktop/Tools/Pandas/data/pokemon_data.xlsx\")\n",
    "\n",
    "# group by Type 1 and get mean for all numeric columns, find the strongest Type 1 by Attack\n",
    "df.groupby(['Type 1']).mean(numeric_only=True).sort_values('Attack', ascending=False)\n",
    "\n",
    "# sum all numeric columns for each Type 1\n",
    "df.groupby(['Type 1']).sum(numeric_only=True)\n",
    "\n",
    "# count of each Type 1\n",
    "df[\"Count\"] = 1\n",
    "df.groupby(['Type 1']).count()['Count'] \n",
    "\n",
    "df.groupby(['Type 1', 'Type 2']).count()['Count']"
   ]
  },
  {
   "cell_type": "markdown",
   "id": "7badee76",
   "metadata": {},
   "source": [
    "### Training to work with large files"
   ]
  },
  {
   "cell_type": "code",
   "execution_count": null,
   "id": "a4563cc8",
   "metadata": {},
   "outputs": [],
   "source": []
  }
 ],
 "metadata": {
  "kernelspec": {
   "display_name": "Python 3",
   "language": "python",
   "name": "python3"
  },
  "language_info": {
   "codemirror_mode": {
    "name": "ipython",
    "version": 3
   },
   "file_extension": ".py",
   "mimetype": "text/x-python",
   "name": "python",
   "nbconvert_exporter": "python",
   "pygments_lexer": "ipython3",
   "version": "3.13.1"
  }
 },
 "nbformat": 4,
 "nbformat_minor": 5
}
