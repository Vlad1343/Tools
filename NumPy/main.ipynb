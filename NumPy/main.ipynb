{
 "cells": [
  {
   "cell_type": "markdown",
   "id": "dd281bf8",
   "metadata": {},
   "source": [
    "# NumPy Playground"
   ]
  },
  {
   "cell_type": "markdown",
   "id": "7835dc27",
   "metadata": {},
   "source": [
    "## Basics"
   ]
  },
  {
   "cell_type": "code",
   "execution_count": 3,
   "id": "75d59492",
   "metadata": {},
   "outputs": [
    {
     "name": "stdout",
     "output_type": "stream",
     "text": [
      "[1 2 3 4 5]\n",
      "<class 'numpy.ndarray'>\n"
     ]
    },
    {
     "data": {
      "text/plain": [
       "array([[ 8.,  9., 10.],\n",
       "       [ 6.,  7.,  8.]])"
      ]
     },
     "execution_count": 3,
     "metadata": {},
     "output_type": "execute_result"
    }
   ],
   "source": [
    "# NumPy is a Python library.\n",
    "# NumPy is used for working with arrays.\n",
    "# NumPy is short for \"Numerical Python\".\n",
    "\n",
    "import numpy as np\n",
    "arr = np.array([1, 2, 3, 4, 5], dtype='int16')\n",
    "print(arr)\n",
    "print(type(arr))\n",
    "\n",
    "arr2 = np.array([[8.0, 9.0, 10.0], [6.0, 7.0, 8.0]])\n",
    "arr2"
   ]
  },
  {
   "cell_type": "code",
   "execution_count": null,
   "id": "215a8110",
   "metadata": {},
   "outputs": [],
   "source": [
    "# Get dimension\n",
    "arr.ndim, arr2.ndim\n",
    "\n",
    "# Get shape\n",
    "arr.shape\n",
    "arr2.shape # 2 rows 3 columns\n",
    "\n",
    "# Get type(memory size)\n",
    "arr.dtype, arr2.dtype\n",
    "\n",
    "# Get size (bytes)\n",
    "arr.itemsize, arr2.itemsize\n",
    "\n",
    "# Get total size\n",
    "arr.size, arr2.size # number of elements\n",
    "\n",
    "arr.size * arr.itemsize, arr2.size * arr2.itemsize # total bytes\n",
    "arr.nbytes, arr2.nbytes # total bytes"
   ]
  },
  {
   "cell_type": "code",
   "execution_count": null,
   "id": "4fb59458",
   "metadata": {},
   "outputs": [],
   "source": [
    "# Convert data types\n",
    "arr = np.array([1.1, 2.7, 3.1])\n",
    "newarr = arr.astype('i') # or (int)\n",
    "print(newarr)\n",
    "\n"
   ]
  },
  {
   "cell_type": "code",
   "execution_count": null,
   "id": "c13cfd75",
   "metadata": {},
   "outputs": [],
   "source": [
    "import numpy as np\n",
    "arr = np.array([1, 2, 3, 4], ndmin=5)\n",
    "print(arr)\n",
    "print('Number of dimensions :', arr.ndim)"
   ]
  },
  {
   "cell_type": "markdown",
   "id": "7e635a5c",
   "metadata": {},
   "source": [
    "## Accessing/Changing"
   ]
  },
  {
   "cell_type": "code",
   "execution_count": null,
   "id": "b8149157",
   "metadata": {},
   "outputs": [
    {
     "name": "stdout",
     "output_type": "stream",
     "text": [
      "12\n",
      "12\n",
      "[ 7  8  9 10 11 12]\n",
      "[ 5 11]\n",
      "[2 4 6]\n",
      "[[3 4]]\n"
     ]
    },
    {
     "data": {
      "text/plain": [
       "array([ 2,  8, 14, 20])"
      ]
     },
     "execution_count": 21,
     "metadata": {},
     "output_type": "execute_result"
    }
   ],
   "source": [
    "a = np.array([[1,2,3,4,5,6], [7,8,9,10,11,12]])\n",
    "a.shape\n",
    "\n",
    "# Specific element [r, c]\n",
    "print(a[1][5])\n",
    "print(a[1][-1])\n",
    "\n",
    "# Specific row\n",
    "print(a[1, :])\n",
    "\n",
    "# Specific column\n",
    "print(a[:, 4])\n",
    "\n",
    "print(a[0, 1:6:2]) # start:end:stepsize\n",
    "print(a[0:1, 2:4]) # row, column\n",
    "\n",
    "\n",
    "\n",
    "arr = np.arange(1, 31)\n",
    "# Reshape into rows with 5 numbers each\n",
    "arr = arr.reshape(-1, 5)  # -1 automatically calculates the number of rows\n",
    "arr[2:4, 0:2]\n",
    "\n",
    "# Diagonal\n",
    "arr[[0,1,2,3],[1,2,3,4]]\n",
    "arr.diagonal(offset=1)\n",
    "\n",
    "# Specific pattern\n",
    "arr[[0,4,5], 3:]\n",
    "arr[np.ix_([0,4,5], [3,4])]\n",
    "\n",
    "\n",
    "# Change\n",
    "a[1][5] = 20\n",
    "a[1, 1:4] = 5\n",
    "a[:, 2] = [1,2]\n",
    "a"
   ]
  },
  {
   "cell_type": "code",
   "execution_count": null,
   "id": "cb297907",
   "metadata": {},
   "outputs": [],
   "source": [
    "# 3D Example\n",
    "arr = np.array([[[1, 2, 3, 4],[5, 6, 7, 8],[9, 10, 11, 12]]])\n",
    "print(arr)\n",
    "\n",
    "# Specific element (work outside in)\n",
    "print(arr[0][1][2]) # first index stands for a block\n",
    "arr[:,0,:] = [[3,3,4,4]]\n",
    "arr"
   ]
  },
  {
   "cell_type": "markdown",
   "id": "805842ae",
   "metadata": {},
   "source": [
    "## Initialising"
   ]
  },
  {
   "cell_type": "code",
   "execution_count": null,
   "id": "a4852c6d",
   "metadata": {},
   "outputs": [],
   "source": [
    "# All 0s matrix\n",
    "np.zeros(5)\n",
    "np.zeros((2,3))\n",
    "\n",
    "# All 1s matrix\n",
    "np.ones((4,2), dtype='int32')\n",
    "\n",
    "# Any other number\n",
    "np.full((2,2), 99) \n",
    "\n",
    "# Any other number (full_like)\n",
    "np.full(arr.shape, 4) # (shape, value)\n",
    "np.full_like(arr, 4)  # (array, value)\n",
    "\n"
   ]
  },
  {
   "cell_type": "code",
   "execution_count": null,
   "id": "253dee2e",
   "metadata": {},
   "outputs": [],
   "source": [
    "# Random decimal\n",
    "np.random.rand(2,4)\n",
    "np.random.random_sample(arr.shape)\n",
    "\n",
    "# Random integer\n",
    "np.random.randint(3,11, size=(3,3))\n",
    "\n",
    "# Identity matrix\n",
    "np.identity(4)\n",
    "\n",
    "# Repeat an array\n",
    "arr1 = np.array([1,2,3]) # [1 1 1 2 2 2 3 3 3]\n",
    "r1 = np.repeat(arr1, 3)\n",
    "print(r1)\n",
    "\n",
    "arr1 = np.array([[1,2,3]])\n",
    "r1 = np.repeat(arr1, 3, axis=0)           \n",
    "print(r1)\n"
   ]
  },
  {
   "cell_type": "markdown",
   "id": "920e65e0",
   "metadata": {},
   "source": [
    "## Exercises"
   ]
  },
  {
   "cell_type": "code",
   "execution_count": null,
   "id": "7c0d6cdc",
   "metadata": {},
   "outputs": [
    {
     "data": {
      "text/plain": [
       "array([[7., 0., 0., 0., 0., 0., 7.],\n",
       "       [0., 7., 0., 0., 0., 7., 0.],\n",
       "       [0., 0., 7., 0., 7., 0., 0.],\n",
       "       [0., 0., 0., 7., 0., 0., 0.],\n",
       "       [0., 0., 7., 0., 7., 0., 0.],\n",
       "       [0., 7., 0., 0., 0., 7., 0.],\n",
       "       [7., 0., 0., 0., 0., 0., 7.]])"
      ]
     },
     "execution_count": 6,
     "metadata": {},
     "output_type": "execute_result"
    }
   ],
   "source": [
    "# Ex 1\n",
    "r1 = np.repeat(np.array([1]), 5)\n",
    "arr = np.array([[r1,[1, 0, 0, 0, 1],[1, 0, 9, 0, 1], [1, 0, 0, 0, 1], r1]])\n",
    "arr\n",
    "\n",
    "output = np.ones((5,5))\n",
    "zero = np.zeros((3,3))\n",
    "zero[1,1] = 9\n",
    "output[1:-1, 1:-1] = zero\n",
    "output\n",
    "\n",
    "\n",
    "\n",
    "# Ex 2; \n",
    "# • The border is filled with 3s. \n",
    "# • The inside (all non-border cells) is filled with 1s. \n",
    "# • The very center of the array is 0.\n",
    "\n",
    "arr = np.full((7,7), 3)\n",
    "ones = np.ones((5,5))\n",
    "arr[1:-1, 1:-1] = ones\n",
    "arr[3,3] = 5\n",
    "arr\n",
    "\n",
    "\n",
    "# Ex 3;\n",
    "# Create a 9×9 array filled with 0s.\n",
    "\t# •\tThe outer border should be 2s.\n",
    "\t# •\tThe next inner border should be 1s.\n",
    "\t# •\tThe center (the 5×5 part) should stay 0.\n",
    "\n",
    "arr = np.full((9,9), 2)\n",
    "arr[1:-1, 1:-1] = np.ones((7,7))\n",
    "arr[2:-2, 2:-2] = np.zeros((5,5))\n",
    "arr\n",
    "\n",
    "\n",
    "# Ex 4;\n",
    "# Create a 7x7 array filled with 0s\n",
    "# • Cross Pattern (7×7)\n",
    "\n",
    "arr = np.zeros((7,7))\n",
    "for i in range(7):\n",
    "    arr[i, i] = 7\n",
    "    arr[i, 6 - i] = 7\n",
    "arr"
   ]
  },
  {
   "cell_type": "markdown",
   "id": "ee465b1d",
   "metadata": {},
   "source": [
    "## Miscellaneous"
   ]
  },
  {
   "cell_type": "markdown",
   "id": "8df57ade",
   "metadata": {},
   "source": [
    "### Other"
   ]
  },
  {
   "cell_type": "code",
   "execution_count": 8,
   "id": "13f016d1",
   "metadata": {},
   "outputs": [
    {
     "data": {
      "text/plain": [
       "(array([1, 2, 3]), array([100,   2,   3]))"
      ]
     },
     "execution_count": 8,
     "metadata": {},
     "output_type": "execute_result"
    }
   ],
   "source": [
    "# Be careful when copying arrays!!\n",
    "\n",
    "# Wrong way\n",
    "arr = np.array([1,2,3])\n",
    "arr2 = arr # arr2 points to the same memory as arr\n",
    "arr2[0] = 100\n",
    "arr,arr2\n",
    "\n",
    "# Right way\n",
    "a = np.array([1,2,3])\n",
    "b = a.copy()\n",
    "b[0] = 100\n",
    "a, b\n"
   ]
  },
  {
   "cell_type": "markdown",
   "id": "961f404b",
   "metadata": {},
   "source": [
    "### Load Data from File"
   ]
  },
  {
   "cell_type": "code",
   "execution_count": null,
   "id": "cf5d6e93",
   "metadata": {},
   "outputs": [],
   "source": [
    "file = \"/Users/vladyslavshutkevych/Desktop/Tools/NumPy/data.txt\"\n",
    "filedata = np.genfromtxt(file, delimiter=\",\") # delimiter is separator\n",
    "filedata.astype('int32') # change file type\n"
   ]
  },
  {
   "cell_type": "markdown",
   "id": "41509e69",
   "metadata": {},
   "source": [
    "### Boolean Masking and Advanced Indexing"
   ]
  },
  {
   "cell_type": "code",
   "execution_count": null,
   "id": "8244d640",
   "metadata": {},
   "outputs": [],
   "source": [
    "# Find all values that satisfy the condition\n",
    "filedata > 300\n",
    "filedata[filedata>300]\n",
    "np.any(filedata>500, axis=0) # if any true in every column\n",
    "\n",
    "(filedata > 500) & (filedata < 1000)\n",
    "~(filedata > 500) & (filedata < 1000) # ~ is a not operator\n",
    "\n",
    "np.any((filedata>500) & (filedata<1000)) # np.True_\n",
    "\n",
    "\n",
    "\n",
    "# Index with a list in NumPy\n",
    "# a = np.array([1,2,3,4,5,6,7,8,9])\n",
    "# a[[1,2,8]]\n",
    "\n",
    "\n"
   ]
  },
  {
   "cell_type": "markdown",
   "id": "79eb8dc9",
   "metadata": {},
   "source": [
    "## Mathematics"
   ]
  },
  {
   "cell_type": "code",
   "execution_count": null,
   "id": "cb8b6809",
   "metadata": {},
   "outputs": [],
   "source": [
    "a = np.array([1,2,3,4])\n",
    "a + 2 # add 2 to every element\n",
    "\n",
    "b = np.array([1,0,1,0]) # add to arrays\n",
    "a+b\n",
    "\n",
    "np.sin(a)\n"
   ]
  },
  {
   "cell_type": "markdown",
   "id": "a30635f4",
   "metadata": {},
   "source": [
    "### Linear Algerba"
   ]
  },
  {
   "cell_type": "code",
   "execution_count": null,
   "id": "1483451d",
   "metadata": {},
   "outputs": [],
   "source": [
    "# Matrix multiplication\n",
    "a = np.ones((2,3))\n",
    "b = np.full((3,2), 2)\n",
    "np.matmul(a,b)\n",
    "\n",
    "# Find the determinant\n",
    "c = np.identity(3)\n",
    "np.linalg.det(1)"
   ]
  },
  {
   "cell_type": "markdown",
   "id": "5380f3b5",
   "metadata": {},
   "source": [
    "### Statistics"
   ]
  },
  {
   "cell_type": "code",
   "execution_count": null,
   "id": "6aeab473",
   "metadata": {},
   "outputs": [],
   "source": [
    "stats = np.array([[1,2,3], [4,5,6]])\n",
    "np.min(stats) # general min\n",
    "np.min(stats, axis=1) # min of each row in 2D\n",
    "np.min(stats, axis=0) # min of each column in 2D\n",
    "np.max(stats) # general max\n",
    "np.sum(stats)\n"
   ]
  },
  {
   "cell_type": "markdown",
   "id": "61a16d3e",
   "metadata": {},
   "source": [
    "## Reorganising arrays"
   ]
  },
  {
   "cell_type": "code",
   "execution_count": null,
   "id": "62474c1c",
   "metadata": {},
   "outputs": [],
   "source": [
    "# Change the array shape\n",
    "before = np.array([[1,2,3,4], [5,6,7,8]])\n",
    "after = before.reshape((8,1))\n",
    "after = before.reshape((2,2,2))\n",
    "after\n",
    "\n",
    "# Vertically stacking vectors\n",
    "v1 = np.array([1,2,3,4])\n",
    "v2 = np.array([5,6,7,8])\n",
    "np.vstack([v1,v2,v1])\n",
    "\n",
    "# Horizontal stack\n",
    "h1 = np.ones((2,4))\n",
    "h2 = np.zeros((2,2))\n",
    "np.hstack([h2,h1]) # or make a tuple with ((h2,h1))\n",
    "\n"
   ]
  }
 ],
 "metadata": {
  "kernelspec": {
   "display_name": "Python 3",
   "language": "python",
   "name": "python3"
  },
  "language_info": {
   "codemirror_mode": {
    "name": "ipython",
    "version": 3
   },
   "file_extension": ".py",
   "mimetype": "text/x-python",
   "name": "python",
   "nbconvert_exporter": "python",
   "pygments_lexer": "ipython3",
   "version": "3.13.1"
  }
 },
 "nbformat": 4,
 "nbformat_minor": 5
}
