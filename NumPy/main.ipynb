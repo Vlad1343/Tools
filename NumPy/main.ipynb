{
 "cells": [
  {
   "cell_type": "markdown",
   "id": "dd281bf8",
   "metadata": {},
   "source": [
    "# NumPy Playground"
   ]
  },
  {
   "cell_type": "markdown",
   "id": "7835dc27",
   "metadata": {},
   "source": [
    "## Basics"
   ]
  },
  {
   "cell_type": "code",
   "execution_count": null,
   "id": "75d59492",
   "metadata": {},
   "outputs": [],
   "source": [
    "# NumPy is a Python library.\n",
    "# NumPy is used for working with arrays.\n",
    "# NumPy is short for \"Numerical Python\".\n",
    "\n",
    "import numpy as np\n",
    "arr = np.array([1, 2, 3, 4, 5], dtype='int16')\n",
    "print(arr)\n",
    "print(type(arr))\n",
    "\n",
    "arr2 = np.array([[8.0, 9.0, 10.0], [6.0, 7.0, 8.0]])\n",
    "arr2"
   ]
  },
  {
   "cell_type": "code",
   "execution_count": null,
   "id": "215a8110",
   "metadata": {},
   "outputs": [],
   "source": [
    "# Get dimension\n",
    "arr.ndim, arr2.ndim\n",
    "\n",
    "# Get shape\n",
    "arr.shape\n",
    "arr2.shape # 2 rows 3 columns\n",
    "\n",
    "# Get type(memory size)\n",
    "arr.dtype, arr2.dtype\n",
    "\n",
    "# Get size (bytes)\n",
    "arr.itemsize, arr2.itemsize\n",
    "\n",
    "# Get total size\n",
    "arr.size, arr2.size # number of elements\n",
    "\n",
    "arr.size * arr.itemsize, arr2.size * arr2.itemsize # total bytes\n",
    "arr.nbytes, arr2.nbytes # total bytes"
   ]
  },
  {
   "cell_type": "code",
   "execution_count": null,
   "id": "4fb59458",
   "metadata": {},
   "outputs": [],
   "source": [
    "# Convert data types\n",
    "arr = np.array([1.1, 2.7, 3.1])\n",
    "newarr = arr.astype('i') # or (int)\n",
    "print(newarr)\n",
    "\n"
   ]
  },
  {
   "cell_type": "code",
   "execution_count": null,
   "id": "c13cfd75",
   "metadata": {},
   "outputs": [],
   "source": [
    "import numpy as np\n",
    "arr = np.array([1, 2, 3, 4], ndmin=5)\n",
    "print(arr)\n",
    "print('Number of dimensions :', arr.ndim)"
   ]
  },
  {
   "cell_type": "markdown",
   "id": "7e635a5c",
   "metadata": {},
   "source": [
    "## Accessing/Changing"
   ]
  },
  {
   "cell_type": "code",
   "execution_count": null,
   "id": "b8149157",
   "metadata": {},
   "outputs": [],
   "source": [
    "a = np.array([[1,2,3,4,5,6], [7,8,9,10,11,12]])\n",
    "a.shape\n",
    "\n",
    "# Specific element [r, c]\n",
    "print(a[1][5])\n",
    "print(a[1][-1])\n",
    "\n",
    "# Specific row\n",
    "print(a[1, :])\n",
    "\n",
    "# Specific column\n",
    "print(a[:, 4])\n",
    "\n",
    "print(a[0, 1:6:2]) # start:end:stepsize\n",
    "print(a[0:1, 2:4]) # row, column\n",
    "\n",
    "# Dimensional indexing\n",
    "print(a[[0,1]]) # row 0 and 1\n",
    "print(a[:, [0,1]])\n",
    "\n",
    "\n",
    "arr = np.arange(1, 31)\n",
    "# Reshape into rows with 5 numbers each\n",
    "arr = arr.reshape(-1, 5)  # -1 automatically calculates the number of rows\n",
    "arr[2:4, 0:2]\n",
    "\n",
    "# Diagonal\n",
    "arr[[0,1,2,3],[1,2,3,4]]\n",
    "arr.diagonal(offset=1)\n",
    "\n",
    "# Specific pattern\n",
    "arr[[0,4,5], 3:]\n",
    "arr[np.ix_([0,4,5], [3,4])]\n",
    "\n",
    "\n",
    "# Change\n",
    "a[1][5] = 20\n",
    "a[1, 1:4] = 5\n",
    "a[:, 2] = [1,2]\n",
    "a"
   ]
  },
  {
   "cell_type": "code",
   "execution_count": null,
   "id": "cb297907",
   "metadata": {},
   "outputs": [],
   "source": [
    "# 3D Example\n",
    "arr = np.array([[[1, 2, 3, 4],[5, 6, 7, 8],[9, 10, 11, 12]]])\n",
    "print(arr)\n",
    "\n",
    "# Specific element (work outside in)\n",
    "print(arr[0][1][2]) # first index stands for a block\n",
    "arr[:,0,:] = [[3,3,4,4]]\n",
    "arr\n"
   ]
  },
  {
   "cell_type": "markdown",
   "id": "3891e07a",
   "metadata": {},
   "source": [
    "#### Advanced Indexing"
   ]
  },
  {
   "cell_type": "code",
   "execution_count": null,
   "id": "5ce29098",
   "metadata": {},
   "outputs": [],
   "source": [
    "a = np.array([[1,2,3], [4,5,6], [7,8,9]])\n",
    "print(a[:,:]) # everything\n",
    "print(a[:,1]) # everything from column 1\n",
    "a[np.newaxis, :, 1]; a[:, 1, np.newaxis] # new dimension\n",
    "\n",
    "\n",
    "a = np.array([[1,2,3],\n",
    "              [4,5,6],\n",
    "              [7,8,9]])\n",
    "print(a[[0,2],[0,2]])\n",
    "# [1,9]"
   ]
  },
  {
   "cell_type": "code",
   "execution_count": null,
   "id": "dbf6b707",
   "metadata": {},
   "outputs": [],
   "source": [
    "arr = np.arange(10)\n",
    "arr_slice = arr[3:6] # .copy() to make a copy\n",
    "print(arr)\n",
    "print(arr_slice)\n",
    "\n",
    "# Slices are views, not copies. arr_slice references the same memory\n",
    "arr_slice[0] = 999\n",
    "print(arr)\n",
    "print(arr_slice)"
   ]
  },
  {
   "cell_type": "markdown",
   "id": "9a9b28e0",
   "metadata": {},
   "source": [
    "### Boolean Indexing"
   ]
  },
  {
   "cell_type": "code",
   "execution_count": null,
   "id": "c0a47e89",
   "metadata": {},
   "outputs": [],
   "source": [
    "print(a[[True,False,True]]) # except 2nd row\n",
    "print(a[[[True,True,True], [True,False,True], [True,True,True]]]) # except 5"
   ]
  },
  {
   "cell_type": "markdown",
   "id": "aad83317",
   "metadata": {},
   "source": [
    "### Sorting & Searching"
   ]
  },
  {
   "cell_type": "code",
   "execution_count": null,
   "id": "40fa36f1",
   "metadata": {},
   "outputs": [],
   "source": [
    "b = np.array([[1,5,4],[7,2,3],[6,9,8]])\n",
    "print(np.sort(b)) # sort rows\n",
    "print(b) # nothing changed\n",
    "\n",
    "b.sort()\n",
    "print(b) # sorted result\n",
    "\n",
    "np.sort(b.flatten()).reshape(b.shape) # flatten - turn into regular list, then sort everything\n",
    "\n",
    "\n",
    "outputs = np.array([0.01, 0.87, 0.53, 0.02, 0, 0.01, 0.03, 0.05])\n",
    "print(np.argmax(outputs))\n",
    "print(np.argmin(outputs)) # only one value\n",
    "print(np.nonzero(outputs))\n",
    "print(np.where(outputs>0.02, outputs, 0))\n",
    "\n"
   ]
  },
  {
   "cell_type": "markdown",
   "id": "805842ae",
   "metadata": {},
   "source": [
    "## Initialising"
   ]
  },
  {
   "cell_type": "code",
   "execution_count": null,
   "id": "a4852c6d",
   "metadata": {},
   "outputs": [],
   "source": [
    "# All 0s matrix\n",
    "np.zeros(5)\n",
    "np.zeros((2,3))\n",
    "\n",
    "# All 1s matrix\n",
    "np.ones((4,2), dtype='int32')\n",
    "\n",
    "# Any other number\n",
    "np.full((2,2), 99) \n",
    "\n",
    "# Any other number (full_like)\n",
    "np.full(arr.shape, 4) # (shape, value)\n",
    "np.full_like(arr, 4)  # (array, value)\n",
    "\n"
   ]
  },
  {
   "cell_type": "code",
   "execution_count": null,
   "id": "253dee2e",
   "metadata": {},
   "outputs": [],
   "source": [
    "# Random decimal\n",
    "np.random.rand(2,4)\n",
    "np.random.random_sample(arr.shape)\n",
    "\n",
    "# Random integer\n",
    "np.random.randint(3,11, size=(3,3))\n",
    "\n",
    "rng = np.random.default_rng()\n",
    "print(rng.integers(1, 7)) # random int\n",
    "\n",
    "array = np.array([1,2,3,4,5])\n",
    "rng.shuffle(array)\n",
    "print(array)\n",
    "\n",
    "b = np.array([\"apple\", \"banana\", \"peach\", \"pineapple\"])\n",
    "fruit = rng.choice(b, size=3)\n",
    "fruit = rng.choice(b, size=3, replace=False)  # unique picks\n",
    "print(fruit)\n",
    "\n",
    "# Identity matrix\n",
    "np.identity(4)\n",
    "\n",
    "# Repeat an array\n",
    "arr1 = np.array([1,2,3]) # [1 1 1 2 2 2 3 3 3]\n",
    "r1 = np.repeat(arr1, 3)\n",
    "print(r1)\n",
    "\n",
    "arr1 = np.array([[1,2,3]])\n",
    "r1 = np.repeat(arr1, 3, axis=0)           \n",
    "print(r1)\n"
   ]
  },
  {
   "cell_type": "markdown",
   "id": "920e65e0",
   "metadata": {},
   "source": [
    "## Exercises"
   ]
  },
  {
   "cell_type": "code",
   "execution_count": null,
   "id": "7c0d6cdc",
   "metadata": {},
   "outputs": [
    {
     "data": {
      "text/plain": [
       "array([[1, 1, 1, 1, 1, 1, 1],\n",
       "       [1, 1, 1, 1, 1, 1, 1],\n",
       "       [1, 1, 1, 1, 1, 1, 1],\n",
       "       [1, 1, 1, 1, 1, 1, 1],\n",
       "       [1, 1, 1, 1, 1, 1, 1],\n",
       "       [1, 1, 1, 1, 1, 1, 1],\n",
       "       [1, 1, 1, 1, 1, 1, 1]])"
      ]
     },
     "execution_count": 42,
     "metadata": {},
     "output_type": "execute_result"
    }
   ],
   "source": [
    "# # Ex 1\n",
    "# r1 = np.repeat(np.array([1]), 5)\n",
    "# arr = np.array([[r1,[1, 0, 0, 0, 1],[1, 0, 9, 0, 1], [1, 0, 0, 0, 1], r1]])\n",
    "# arr\n",
    "\n",
    "# output = np.ones((5,5))\n",
    "# zero = np.zeros((3,3))\n",
    "# zero[1,1] = 9\n",
    "# output[1:-1, 1:-1] = zero\n",
    "# output\n",
    "\n",
    "\n",
    "\n",
    "# # Ex 2; \n",
    "# # • The border is filled with 3s. \n",
    "# # • The inside (all non-border cells) is filled with 1s. \n",
    "# # • The very center of the array is 0.\n",
    "\n",
    "# arr = np.full((7,7), 3)\n",
    "# ones = np.ones((5,5))\n",
    "# arr[1:-1, 1:-1] = ones\n",
    "# arr[3,3] = 5\n",
    "# arr\n",
    "\n",
    "\n",
    "\n",
    "# # Ex 3;\n",
    "# # Create a 9×9 array filled with 0s.\n",
    "# \t# •\tThe outer border should be 2s.\n",
    "# \t# •\tThe next inner border should be 1s.\n",
    "# \t# •\tThe center (the 5×5 part) should stay 0.\n",
    "\n",
    "# arr = np.full((9,9), 2)\n",
    "# arr[1:-1, 1:-1] = np.ones((7,7))\n",
    "# arr[2:-2, 2:-2] = np.zeros((5,5))\n",
    "# arr\n",
    "\n",
    "\n",
    "\n",
    "# # Ex 4;\n",
    "# # • Create a 7x7 array filled with 0s\n",
    "# # • Cross Pattern (7×7)\n",
    "\n",
    "# arr = np.zeros((7,7))\n",
    "# for i in range(7):\n",
    "#     arr[i, i] = 7\n",
    "#     arr[i, 6 - i] = 7\n",
    "# arr\n",
    "\n",
    "\n",
    "\n",
    "# # Ex 5. Diagonal sum\n",
    "# #\t•\tCreate a 5×5 array filled with numbers from 1 to 25 (using np.arange).\n",
    "# #\t•\tExtract the main diagonal and compute its sum.\n",
    "\n",
    "# arr = np.arange(1,26).reshape(5,5)\n",
    "\n",
    "# diagonal = np.diagonal(arr) # or\n",
    "# # diagonal = []\n",
    "# # for i in range(arr.shape[0]):  # arr.shape[0] gives number of rows\n",
    "# #     diagonal.append(arr[i, i])\n",
    "    \n",
    "# diag_sum = np.sum(diagonal)\n",
    "# print(\"Main diagonal:\", diagonal)\n",
    "# print(\"Sum of diagonal:\", diag_sum)\n",
    "\n",
    "\n",
    "\n",
    "# # Ex 6. Replace Borders\n",
    "# #\t•\tMake a 6×6 array filled with 2.\n",
    "# #\t•\tReplace the border with 0.\n",
    "\n",
    "# arr = np.full((6,6),2)\n",
    "# arr[[0, -1], :] = 0   # top & bottom rows\n",
    "# arr[:, [0, -1]] = 0   # left & right columns\n",
    "# arr\n",
    "\n",
    "\n",
    "\n",
    "# Ex 7. Donut with a Twist\n",
    "#\t•\tCreate a 7×7 array filled with 1s.\n",
    "#\t•\tReplace the inner 5×5 with 2s.\n",
    "#\t•\tReplace the inner 3×3 with 3s.\n",
    "#\t•\tReplace the center element with 9.\n",
    "\n",
    "arr = np.full((7,7), 1)\n",
    "arr[1:-1, 1:-1] = 2\n",
    "arr[2:-2, 2:-2] = 3\n",
    "arr[3,3] = 9\n",
    "arr"
   ]
  },
  {
   "cell_type": "markdown",
   "id": "ee465b1d",
   "metadata": {},
   "source": [
    "## Miscellaneous"
   ]
  },
  {
   "cell_type": "markdown",
   "id": "8df57ade",
   "metadata": {},
   "source": [
    "### Views & Copies"
   ]
  },
  {
   "cell_type": "code",
   "execution_count": null,
   "id": "13f016d1",
   "metadata": {},
   "outputs": [],
   "source": [
    "# Be careful when copying arrays!!\n",
    "\n",
    "# Wrong way\n",
    "arr = np.array([1,2,3])\n",
    "arr2 = arr # arr2 points to the same memory as arr\n",
    "arr2[0] = 100\n",
    "arr,arr2\n",
    "\n",
    "# Right way\n",
    "a = np.array([1,2,3])\n",
    "b = a.copy()\n",
    "b[0] = 100\n",
    "a, b\n",
    "\n",
    "\n",
    "# Advanced indexing always returns a copy\n",
    "arr = np.array([10, 20, 30, 40, 50])\n",
    "indices = [1, 3]\n",
    "selected = arr[indices]   # advanced indexing\n",
    "selected[0] = 999\n",
    "print(arr)      # original array is unchanged\n",
    "print(selected) # [999, 40]\n",
    "\n",
    "# Basic slicing returns a view\n",
    "arr = np.array([10, 20, 30, 40, 50])\n",
    "slice_view = arr[1:4]   # basic slicing\n",
    "slice_view[0] = 999\n",
    "print(arr)        # arr is modified: [10, 999, 30, 40, 50]\n",
    "print(slice_view) # [999, 30, 40]\n",
    "\n",
    "\n",
    "\n",
    "arr2 = np.array([1, 2, 3])\n",
    "x = arr.view()\n",
    "x[0] = 99\n",
    "print(arr)  # Output: [99  2  3]\n",
    "\n",
    "y = arr.copy()\n",
    "y[0] = 42\n",
    "print(arr)  # arr stays [99 2 3]"
   ]
  },
  {
   "cell_type": "markdown",
   "id": "961f404b",
   "metadata": {},
   "source": [
    "### Load Data from File"
   ]
  },
  {
   "cell_type": "code",
   "execution_count": null,
   "id": "cf5d6e93",
   "metadata": {},
   "outputs": [],
   "source": [
    "file = \"/Users/vladyslavshutkevych/Desktop/Tools/NumPy/data.txt\"\n",
    "filedata = np.genfromtxt(file, delimiter=\",\") # delimiter is separator\n",
    "filedata.astype('int32') # change file type"
   ]
  },
  {
   "cell_type": "markdown",
   "id": "41509e69",
   "metadata": {},
   "source": [
    "### Boolean Masking and Advanced Indexing"
   ]
  },
  {
   "cell_type": "code",
   "execution_count": null,
   "id": "8244d640",
   "metadata": {},
   "outputs": [],
   "source": [
    "# Find all values that satisfy the condition\n",
    "filedata > 300\n",
    "filedata[filedata>300]\n",
    "np.any(filedata>500, axis=0) # if any true in every column\n",
    "\n",
    "(filedata > 500) & (filedata < 1000) # | - or operator\n",
    "~(filedata > 500) & (filedata < 1000) # ~ is a not operator\n",
    "\n",
    "np.any((filedata>500) & (filedata<1000)) # np.True_\n",
    "\n",
    "\n",
    "\n",
    "# Index with a list in NumPy\n",
    "# a = np.array([1,2,3,4,5,6,7,8,9])\n",
    "# a[[1,2,8]]\n"
   ]
  },
  {
   "cell_type": "markdown",
   "id": "e49830f7",
   "metadata": {},
   "source": [
    "### Filtering"
   ]
  },
  {
   "cell_type": "code",
   "execution_count": null,
   "id": "a7c62e4f",
   "metadata": {},
   "outputs": [],
   "source": [
    "ages = np.array([[15,18,17,23,36], [26,34,9,20,28]])\n",
    "filter = ages[ages>17]\n",
    "filter\n",
    "\n",
    "adults = np.where(ages>=18, ages, 0) #condition, array, fill value\n",
    "adults"
   ]
  },
  {
   "cell_type": "markdown",
   "id": "79eb8dc9",
   "metadata": {},
   "source": [
    "## Mathematics"
   ]
  },
  {
   "cell_type": "code",
   "execution_count": null,
   "id": "cb8b6809",
   "metadata": {},
   "outputs": [],
   "source": [
    "a = np.array([1,2,3,4])\n",
    "a + 2 # add 2 to every element\n",
    "\n",
    "b = np.array([1,0,1,0]) # add to arrays\n",
    "a+b\n",
    "\n",
    "np.sin(a)"
   ]
  },
  {
   "cell_type": "markdown",
   "id": "a30635f4",
   "metadata": {},
   "source": [
    "### Linear Algerba"
   ]
  },
  {
   "cell_type": "code",
   "execution_count": null,
   "id": "1483451d",
   "metadata": {},
   "outputs": [],
   "source": [
    "# Matrix multiplication\n",
    "a = np.ones((2,3))\n",
    "b = np.full((3,2), 2) # 3x2 array filled with 2s\n",
    "\n",
    "print(np.matmul(a,b)) # matrix multiplication\n",
    "print(a @ b) # same as matmul\n",
    "\n",
    "# Find the determinant\n",
    "c = np.identity(3)\n",
    "np.linalg.det(c)"
   ]
  },
  {
   "cell_type": "markdown",
   "id": "5380f3b5",
   "metadata": {},
   "source": [
    "### Statistics"
   ]
  },
  {
   "cell_type": "code",
   "execution_count": null,
   "id": "6aeab473",
   "metadata": {},
   "outputs": [],
   "source": [
    "stats = np.array([[1,2,3], [4,5,6]])\n",
    "np.min(stats) # general min\n",
    "np.min(stats, axis=1) # min of each row in 2D\n",
    "np.min(stats, axis=0) # min of each column in 2D\n",
    "np.max(stats) # general max\n",
    "np.argmax(stats) # index of max\n",
    "np.sum(stats)"
   ]
  },
  {
   "cell_type": "markdown",
   "id": "8ae00233",
   "metadata": {},
   "source": [
    "### Vectorisation"
   ]
  },
  {
   "cell_type": "code",
   "execution_count": null,
   "id": "7f145846",
   "metadata": {},
   "outputs": [],
   "source": [
    "arr = np.array([[1,2,3],[4,5,6],[7,8,9]])\n",
    "np.exp(arr)\n",
    "\n",
    "def square_if_even(x):\n",
    "    return x**2 if x%2==0 else x\n",
    "\n",
    "vectorised = np.vectorize(square_if_even)\n",
    "# print(square_if_even(arr)) # can't use without vectorisation\n",
    "print(vectorised(arr))"
   ]
  },
  {
   "cell_type": "markdown",
   "id": "61a16d3e",
   "metadata": {},
   "source": [
    "## Reorganising arrays"
   ]
  },
  {
   "cell_type": "code",
   "execution_count": null,
   "id": "62474c1c",
   "metadata": {},
   "outputs": [],
   "source": [
    "# Change the array shape\n",
    "before = np.array([[1,2,3,4], [5,6,7,8]])\n",
    "after = before.reshape((8,1))\n",
    "after = before.reshape((2,2,2))\n",
    "after\n",
    "\n",
    "# Vertically stacking vectors\n",
    "v1 = np.array([1,2,3,4])\n",
    "v2 = np.array([5,6,7,8])\n",
    "np.vstack([v1,v2,v1])\n",
    "\n",
    "# Horizontal stack\n",
    "h1 = np.ones((2,4))\n",
    "h2 = np.zeros((2,2))\n",
    "np.hstack([h2,h1]) # or make a tuple with ((h2,h1))\n",
    "\n"
   ]
  },
  {
   "cell_type": "markdown",
   "id": "64079a62",
   "metadata": {},
   "source": [
    "## Iterating"
   ]
  },
  {
   "cell_type": "code",
   "execution_count": null,
   "id": "edda30dc",
   "metadata": {},
   "outputs": [],
   "source": [
    "arr = np.arange(12).reshape(3,4)\n",
    "for element in np.nditer(arr): # (arr, order=\"F\"); column-major order (Fortran)\n",
    "    print(element, end=\" \") # instead of multiple loops\n",
    "    \n",
    "\n",
    "with np.nditer(arr, op_flags=['readwrite']) as it:\n",
    "    for element in it:\n",
    "        element[...] = element**2\n",
    "arr\n",
    "# np.nditer gives fine-grained control to iterate through arrays.\n",
    "# op_flags=['readwrite'] allows modifying in place.\n",
    "# element[...] ensures the change goes back into the array, not just a temporary value."
   ]
  },
  {
   "cell_type": "markdown",
   "id": "5dbf02c6",
   "metadata": {},
   "source": [
    "## Masking"
   ]
  },
  {
   "cell_type": "code",
   "execution_count": null,
   "id": "ad727a6a",
   "metadata": {},
   "outputs": [],
   "source": [
    "import numpy as np\n",
    "import numpy.ma as ma\n",
    "\n",
    "arr = np.array([1,2,3,np.nan,4,np.inf])\n",
    "arr.mean()\n",
    "\n",
    "masked_arr = ma.masked_array(arr, mask=[0,0,0,1,0,1]) # 1 - masked(excluded)\n",
    "print(masked_arr)\n",
    "masked_arr.mean()\n",
    "\n",
    "\n",
    "arr2 = np.array([[1,2,3],[4,5,6]])\n",
    "masked_arr2 = ma.masked_array(arr2, mask=[[0,0,1], [1,0,0]])\n",
    "masked_arr2.sum()\n",
    "ma.getmask(masked_arr2) # boolean masked\n",
    "\n",
    "ma.masked_greater(arr2, 4) # mask values > 4\n",
    "ma.masked_inside(arr2, 2, 4) # mask values between 2 and 4 (inclusive)\n",
    "print(ma.masked_outside(arr2, 2, 4)) # mask values outside 2 to 4 (inclusive)\n",
    "print(ma.masked_where(arr2%2==0, arr2)) # mask even nums\n",
    "\n",
    "\n",
    "arr3 = np.array([[1,np.nan,3],[4,5,np.inf]])\n",
    "print(ma.masked_invalid(arr3)) # mask invalid values e.g. nan, infinity\n"
   ]
  }
 ],
 "metadata": {
  "kernelspec": {
   "display_name": "Python 3",
   "language": "python",
   "name": "python3"
  },
  "language_info": {
   "codemirror_mode": {
    "name": "ipython",
    "version": 3
   },
   "file_extension": ".py",
   "mimetype": "text/x-python",
   "name": "python",
   "nbconvert_exporter": "python",
   "pygments_lexer": "ipython3",
   "version": "3.13.1"
  }
 },
 "nbformat": 4,
 "nbformat_minor": 5
}
