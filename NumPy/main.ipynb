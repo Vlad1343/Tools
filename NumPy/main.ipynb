{
 "cells": [
  {
   "cell_type": "markdown",
   "id": "dd281bf8",
   "metadata": {},
   "source": [
    "# NumPy Playground"
   ]
  },
  {
   "cell_type": "markdown",
   "id": "7835dc27",
   "metadata": {},
   "source": [
    "## Basics"
   ]
  },
  {
   "cell_type": "code",
   "execution_count": 2,
   "id": "75d59492",
   "metadata": {},
   "outputs": [
    {
     "name": "stdout",
     "output_type": "stream",
     "text": [
      "[1 2 3 4 5]\n",
      "<class 'numpy.ndarray'>\n"
     ]
    },
    {
     "data": {
      "text/plain": [
       "array([[ 8.,  9., 10.],\n",
       "       [ 6.,  7.,  8.]])"
      ]
     },
     "execution_count": 2,
     "metadata": {},
     "output_type": "execute_result"
    }
   ],
   "source": [
    "# NumPy is a Python library.\n",
    "# NumPy is used for working with arrays.\n",
    "# NumPy is short for \"Numerical Python\".\n",
    "\n",
    "import numpy as np\n",
    "arr = np.array([1, 2, 3, 4, 5], dtype='int16')\n",
    "print(arr)\n",
    "print(type(arr))\n",
    "\n",
    "arr2 = np.array([[8.0, 9.0, 10.0], [6.0, 7.0, 8.0]])\n",
    "arr2"
   ]
  },
  {
   "cell_type": "code",
   "execution_count": 43,
   "id": "215a8110",
   "metadata": {},
   "outputs": [
    {
     "data": {
      "text/plain": [
       "(10, 48)"
      ]
     },
     "execution_count": 43,
     "metadata": {},
     "output_type": "execute_result"
    }
   ],
   "source": [
    "# Get dimension\n",
    "arr.ndim, arr2.ndim\n",
    "\n",
    "# Get shape\n",
    "arr.shape\n",
    "arr2.shape # 2 rows 3 columns\n",
    "\n",
    "# Get type(memory size)\n",
    "arr.dtype, arr2.dtype\n",
    "\n",
    "# Get size (bytes)\n",
    "arr.itemsize, arr2.itemsize\n",
    "\n",
    "# Get total size\n",
    "arr.size, arr2.size # number of elements\n",
    "\n",
    "arr.size * arr.itemsize, arr2.size * arr2.itemsize # total bytes\n",
    "arr.nbytes, arr2.nbytes # total bytes"
   ]
  },
  {
   "cell_type": "code",
   "execution_count": 44,
   "id": "4fb59458",
   "metadata": {},
   "outputs": [
    {
     "name": "stdout",
     "output_type": "stream",
     "text": [
      "[1 2 3]\n"
     ]
    }
   ],
   "source": [
    "# Convert data types\n",
    "arr = np.array([1.1, 2.7, 3.1])\n",
    "newarr = arr.astype('i') # or (int)\n",
    "print(newarr)\n",
    "\n"
   ]
  },
  {
   "cell_type": "code",
   "execution_count": 45,
   "id": "c13cfd75",
   "metadata": {},
   "outputs": [
    {
     "name": "stdout",
     "output_type": "stream",
     "text": [
      "[[[[[1 2 3 4]]]]]\n",
      "Number of dimensions : 5\n"
     ]
    }
   ],
   "source": [
    "import numpy as np\n",
    "arr = np.array([1, 2, 3, 4], ndmin=5)\n",
    "print(arr)\n",
    "print('Number of dimensions :', arr.ndim)"
   ]
  },
  {
   "cell_type": "markdown",
   "id": "7e635a5c",
   "metadata": {},
   "source": [
    "## Accessing/Changing"
   ]
  },
  {
   "cell_type": "code",
   "execution_count": 46,
   "id": "b8149157",
   "metadata": {},
   "outputs": [
    {
     "name": "stdout",
     "output_type": "stream",
     "text": [
      "12\n",
      "12\n",
      "[ 7  8  9 10 11 12]\n",
      "[ 5 11]\n",
      "[2 4 6]\n",
      "[[3 4]]\n"
     ]
    },
    {
     "data": {
      "text/plain": [
       "array([[ 1,  2,  1,  4,  5,  6],\n",
       "       [ 7,  5,  2,  5, 11, 20]])"
      ]
     },
     "execution_count": 46,
     "metadata": {},
     "output_type": "execute_result"
    }
   ],
   "source": [
    "a = np.array([[1,2,3,4,5,6], [7,8,9,10,11,12]])\n",
    "a.shape\n",
    "\n",
    "# Specific element [r, c]\n",
    "print(a[1][5])\n",
    "print(a[1][-1])\n",
    "\n",
    "# Specific row\n",
    "print(a[1, :])\n",
    "\n",
    "# Specific column\n",
    "print(a[:, 4])\n",
    "\n",
    "print(a[0, 1:6:2]) # start:end:stepsize\n",
    "print(a[0:1, 2:4]) # row, column\n",
    "\n",
    "\n",
    "\n",
    "arr = np.arange(1, 31)\n",
    "# Reshape into rows with 5 numbers each\n",
    "arr = arr.reshape(-1, 5)  # -1 automatically calculates the number of rows\n",
    "arr[2:4, 0:2]\n",
    "\n",
    "# Diagonal\n",
    "arr[[0,1,2,3],[1,2,3,4]]\n",
    "arr.diagonal(offset=1)\n",
    "\n",
    "# Specific pattern\n",
    "arr[[0,4,5], 3:]\n",
    "arr[np.ix_([0,4,5], [3,4])]\n",
    "\n",
    "\n",
    "# Change\n",
    "a[1][5] = 20\n",
    "a[1, 1:4] = 5\n",
    "a[:, 2] = [1,2]\n",
    "a"
   ]
  },
  {
   "cell_type": "code",
   "execution_count": 47,
   "id": "cb297907",
   "metadata": {},
   "outputs": [
    {
     "name": "stdout",
     "output_type": "stream",
     "text": [
      "[[[ 1  2  3  4]\n",
      "  [ 5  6  7  8]\n",
      "  [ 9 10 11 12]]]\n",
      "7\n"
     ]
    },
    {
     "data": {
      "text/plain": [
       "array([[[ 3,  3,  4,  4],\n",
       "        [ 5,  6,  7,  8],\n",
       "        [ 9, 10, 11, 12]]])"
      ]
     },
     "execution_count": 47,
     "metadata": {},
     "output_type": "execute_result"
    }
   ],
   "source": [
    "# 3D Example\n",
    "arr = np.array([[[1, 2, 3, 4],[5, 6, 7, 8],[9, 10, 11, 12]]])\n",
    "print(arr)\n",
    "\n",
    "# Specific element (work outside in)\n",
    "print(arr[0][1][2]) # first index stands for a block\n",
    "arr[:,0,:] = [[3,3,4,4]]\n",
    "arr"
   ]
  },
  {
   "cell_type": "markdown",
   "id": "805842ae",
   "metadata": {},
   "source": [
    "## Initialising"
   ]
  },
  {
   "cell_type": "code",
   "execution_count": 48,
   "id": "a4852c6d",
   "metadata": {},
   "outputs": [
    {
     "data": {
      "text/plain": [
       "array([[[4, 4, 4, 4],\n",
       "        [4, 4, 4, 4],\n",
       "        [4, 4, 4, 4]]])"
      ]
     },
     "execution_count": 48,
     "metadata": {},
     "output_type": "execute_result"
    }
   ],
   "source": [
    "# All 0s matrix\n",
    "np.zeros(5)\n",
    "np.zeros((2,3))\n",
    "\n",
    "# All 1s matrix\n",
    "np.ones((4,2), dtype='int32')\n",
    "\n",
    "# Any other number\n",
    "np.full((2,2), 99) \n",
    "\n",
    "# Any other number (full_like)\n",
    "np.full(arr.shape, 4) # (shape, value)\n",
    "np.full_like(arr, 4)  # (array, value)\n",
    "\n"
   ]
  },
  {
   "cell_type": "code",
   "execution_count": 9,
   "id": "253dee2e",
   "metadata": {},
   "outputs": [
    {
     "name": "stdout",
     "output_type": "stream",
     "text": [
      "3\n",
      "[4 5 2 1 3]\n"
     ]
    }
   ],
   "source": [
    "# Random decimal\n",
    "np.random.rand(2,4)\n",
    "np.random.random_sample(arr.shape)\n",
    "\n",
    "# Random integer\n",
    "np.random.randint(3,11, size=(3,3))\n",
    "\n",
    "rng = np.random.default_rng()\n",
    "print(rng.integers(1, 7)) # random int\n",
    "\n",
    "array = np.array([1,2,3,4,5])\n",
    "rng.shuffle(array)\n",
    "print(array)\n",
    "\n",
    "# # Identity matrix\n",
    "# np.identity(4)\n",
    "\n",
    "# # Repeat an array\n",
    "# arr1 = np.array([1,2,3]) # [1 1 1 2 2 2 3 3 3]\n",
    "# r1 = np.repeat(arr1, 3)\n",
    "# print(r1)\n",
    "\n",
    "# arr1 = np.array([[1,2,3]])\n",
    "# r1 = np.repeat(arr1, 3, axis=0)           \n",
    "# print(r1)\n"
   ]
  },
  {
   "cell_type": "markdown",
   "id": "920e65e0",
   "metadata": {},
   "source": [
    "## Exercises"
   ]
  },
  {
   "cell_type": "code",
   "execution_count": 50,
   "id": "7c0d6cdc",
   "metadata": {},
   "outputs": [
    {
     "data": {
      "text/plain": [
       "array([[7., 0., 0., 0., 0., 0., 7.],\n",
       "       [0., 7., 0., 0., 0., 7., 0.],\n",
       "       [0., 0., 7., 0., 7., 0., 0.],\n",
       "       [0., 0., 0., 7., 0., 0., 0.],\n",
       "       [0., 0., 7., 0., 7., 0., 0.],\n",
       "       [0., 7., 0., 0., 0., 7., 0.],\n",
       "       [7., 0., 0., 0., 0., 0., 7.]])"
      ]
     },
     "execution_count": 50,
     "metadata": {},
     "output_type": "execute_result"
    }
   ],
   "source": [
    "# Ex 1\n",
    "r1 = np.repeat(np.array([1]), 5)\n",
    "arr = np.array([[r1,[1, 0, 0, 0, 1],[1, 0, 9, 0, 1], [1, 0, 0, 0, 1], r1]])\n",
    "arr\n",
    "\n",
    "output = np.ones((5,5))\n",
    "zero = np.zeros((3,3))\n",
    "zero[1,1] = 9\n",
    "output[1:-1, 1:-1] = zero\n",
    "output\n",
    "\n",
    "\n",
    "\n",
    "# Ex 2; \n",
    "# • The border is filled with 3s. \n",
    "# • The inside (all non-border cells) is filled with 1s. \n",
    "# • The very center of the array is 0.\n",
    "\n",
    "arr = np.full((7,7), 3)\n",
    "ones = np.ones((5,5))\n",
    "arr[1:-1, 1:-1] = ones\n",
    "arr[3,3] = 5\n",
    "arr\n",
    "\n",
    "\n",
    "# Ex 3;\n",
    "# Create a 9×9 array filled with 0s.\n",
    "\t# •\tThe outer border should be 2s.\n",
    "\t# •\tThe next inner border should be 1s.\n",
    "\t# •\tThe center (the 5×5 part) should stay 0.\n",
    "\n",
    "arr = np.full((9,9), 2)\n",
    "arr[1:-1, 1:-1] = np.ones((7,7))\n",
    "arr[2:-2, 2:-2] = np.zeros((5,5))\n",
    "arr\n",
    "\n",
    "\n",
    "# Ex 4;\n",
    "# Create a 7x7 array filled with 0s\n",
    "# • Cross Pattern (7×7)\n",
    "\n",
    "arr = np.zeros((7,7))\n",
    "for i in range(7):\n",
    "    arr[i, i] = 7\n",
    "    arr[i, 6 - i] = 7\n",
    "arr"
   ]
  },
  {
   "cell_type": "markdown",
   "id": "ee465b1d",
   "metadata": {},
   "source": [
    "## Miscellaneous"
   ]
  },
  {
   "cell_type": "markdown",
   "id": "8df57ade",
   "metadata": {},
   "source": [
    "### Other"
   ]
  },
  {
   "cell_type": "code",
   "execution_count": 51,
   "id": "13f016d1",
   "metadata": {},
   "outputs": [
    {
     "data": {
      "text/plain": [
       "(array([1, 2, 3]), array([100,   2,   3]))"
      ]
     },
     "execution_count": 51,
     "metadata": {},
     "output_type": "execute_result"
    }
   ],
   "source": [
    "# Be careful when copying arrays!!\n",
    "\n",
    "# Wrong way\n",
    "arr = np.array([1,2,3])\n",
    "arr2 = arr # arr2 points to the same memory as arr\n",
    "arr2[0] = 100\n",
    "arr,arr2\n",
    "\n",
    "# Right way\n",
    "a = np.array([1,2,3])\n",
    "b = a.copy()\n",
    "b[0] = 100\n",
    "a, b\n"
   ]
  },
  {
   "cell_type": "markdown",
   "id": "961f404b",
   "metadata": {},
   "source": [
    "### Load Data from File"
   ]
  },
  {
   "cell_type": "code",
   "execution_count": 52,
   "id": "cf5d6e93",
   "metadata": {},
   "outputs": [
    {
     "data": {
      "text/plain": [
       "array([[504, 402, 757, 342,  72, 383, 819, 184, 356, 788, 223,  86, 159,\n",
       "        364, 889, 987, 144, 239,  43],\n",
       "       [119, 139, 834, 218, 641, 295, 303, 727, 366, 264, 613, 474, 759,\n",
       "         76, 136, 537, 962, 802, 168],\n",
       "       [ 52,  22, 676,  10, 746, 288,  30, 642, 709, 696, 604, 413, 620,\n",
       "        542, 380, 572, 210,  67, 111]], dtype=int32)"
      ]
     },
     "execution_count": 52,
     "metadata": {},
     "output_type": "execute_result"
    }
   ],
   "source": [
    "file = \"/Users/vladyslavshutkevych/Desktop/Tools/NumPy/data.txt\"\n",
    "filedata = np.genfromtxt(file, delimiter=\",\") # delimiter is separator\n",
    "filedata.astype('int32') # change file type\n"
   ]
  },
  {
   "cell_type": "markdown",
   "id": "41509e69",
   "metadata": {},
   "source": [
    "### Boolean Masking and Advanced Indexing"
   ]
  },
  {
   "cell_type": "code",
   "execution_count": 53,
   "id": "8244d640",
   "metadata": {},
   "outputs": [
    {
     "data": {
      "text/plain": [
       "np.True_"
      ]
     },
     "execution_count": 53,
     "metadata": {},
     "output_type": "execute_result"
    }
   ],
   "source": [
    "# Find all values that satisfy the condition\n",
    "filedata > 300\n",
    "filedata[filedata>300]\n",
    "np.any(filedata>500, axis=0) # if any true in every column\n",
    "\n",
    "(filedata > 500) & (filedata < 1000) # | - or operator\n",
    "~(filedata > 500) & (filedata < 1000) # ~ is a not operator\n",
    "\n",
    "np.any((filedata>500) & (filedata<1000)) # np.True_\n",
    "\n",
    "\n",
    "\n",
    "# Index with a list in NumPy\n",
    "# a = np.array([1,2,3,4,5,6,7,8,9])\n",
    "# a[[1,2,8]]\n",
    "\n",
    "\n"
   ]
  },
  {
   "cell_type": "markdown",
   "id": "e49830f7",
   "metadata": {},
   "source": [
    "### Filtering"
   ]
  },
  {
   "cell_type": "code",
   "execution_count": 54,
   "id": "a7c62e4f",
   "metadata": {},
   "outputs": [
    {
     "data": {
      "text/plain": [
       "array([[ 0, 18,  0, 23, 36],\n",
       "       [26, 34,  0, 20, 28]])"
      ]
     },
     "execution_count": 54,
     "metadata": {},
     "output_type": "execute_result"
    }
   ],
   "source": [
    "ages = np.array([[15,18,17,23,36], [26,34,9,20,28]])\n",
    "filter = ages[ages>17]\n",
    "filter\n",
    "\n",
    "adults = np.where(ages>=18, ages, 0) #condition, array, fill value\n",
    "adults"
   ]
  },
  {
   "cell_type": "markdown",
   "id": "79eb8dc9",
   "metadata": {},
   "source": [
    "## Mathematics"
   ]
  },
  {
   "cell_type": "code",
   "execution_count": 55,
   "id": "cb8b6809",
   "metadata": {},
   "outputs": [
    {
     "data": {
      "text/plain": [
       "array([ 0.84147098,  0.90929743,  0.14112001, -0.7568025 ])"
      ]
     },
     "execution_count": 55,
     "metadata": {},
     "output_type": "execute_result"
    }
   ],
   "source": [
    "a = np.array([1,2,3,4])\n",
    "a + 2 # add 2 to every element\n",
    "\n",
    "b = np.array([1,0,1,0]) # add to arrays\n",
    "a+b\n",
    "\n",
    "np.sin(a)\n"
   ]
  },
  {
   "cell_type": "markdown",
   "id": "a30635f4",
   "metadata": {},
   "source": [
    "### Linear Algerba"
   ]
  },
  {
   "cell_type": "code",
   "execution_count": 56,
   "id": "1483451d",
   "metadata": {},
   "outputs": [
    {
     "ename": "LinAlgError",
     "evalue": "0-dimensional array given. Array must be at least two-dimensional",
     "output_type": "error",
     "traceback": [
      "\u001b[31m---------------------------------------------------------------------------\u001b[39m",
      "\u001b[31mValueError\u001b[39m                                Traceback (most recent call last)",
      "\u001b[36mFile \u001b[39m\u001b[32m/Library/Frameworks/Python.framework/Versions/3.13/lib/python3.13/site-packages/numpy/linalg/_linalg.py:259\u001b[39m, in \u001b[36m_assert_stacked_square\u001b[39m\u001b[34m(*arrays)\u001b[39m\n\u001b[32m    258\u001b[39m \u001b[38;5;28;01mtry\u001b[39;00m:\n\u001b[32m--> \u001b[39m\u001b[32m259\u001b[39m     m, n = a.shape[-\u001b[32m2\u001b[39m:]\n\u001b[32m    260\u001b[39m \u001b[38;5;28;01mexcept\u001b[39;00m \u001b[38;5;167;01mValueError\u001b[39;00m:\n",
      "\u001b[31mValueError\u001b[39m: not enough values to unpack (expected 2, got 0)",
      "\nDuring handling of the above exception, another exception occurred:\n",
      "\u001b[31mLinAlgError\u001b[39m                               Traceback (most recent call last)",
      "\u001b[36mCell\u001b[39m\u001b[36m \u001b[39m\u001b[32mIn[56]\u001b[39m\u001b[32m, line 8\u001b[39m\n\u001b[32m      6\u001b[39m \u001b[38;5;66;03m# Find the determinant\u001b[39;00m\n\u001b[32m      7\u001b[39m c = np.identity(\u001b[32m3\u001b[39m)\n\u001b[32m----> \u001b[39m\u001b[32m8\u001b[39m \u001b[43mnp\u001b[49m\u001b[43m.\u001b[49m\u001b[43mlinalg\u001b[49m\u001b[43m.\u001b[49m\u001b[43mdet\u001b[49m\u001b[43m(\u001b[49m\u001b[32;43m1\u001b[39;49m\u001b[43m)\u001b[49m\n",
      "\u001b[36mFile \u001b[39m\u001b[32m/Library/Frameworks/Python.framework/Versions/3.13/lib/python3.13/site-packages/numpy/linalg/_linalg.py:2427\u001b[39m, in \u001b[36mdet\u001b[39m\u001b[34m(a)\u001b[39m\n\u001b[32m   2381\u001b[39m \u001b[38;5;250m\u001b[39m\u001b[33;03m\"\"\"\u001b[39;00m\n\u001b[32m   2382\u001b[39m \u001b[33;03mCompute the determinant of an array.\u001b[39;00m\n\u001b[32m   2383\u001b[39m \n\u001b[32m   (...)\u001b[39m\u001b[32m   2424\u001b[39m \n\u001b[32m   2425\u001b[39m \u001b[33;03m\"\"\"\u001b[39;00m\n\u001b[32m   2426\u001b[39m a = asarray(a)\n\u001b[32m-> \u001b[39m\u001b[32m2427\u001b[39m \u001b[43m_assert_stacked_square\u001b[49m\u001b[43m(\u001b[49m\u001b[43ma\u001b[49m\u001b[43m)\u001b[49m\n\u001b[32m   2428\u001b[39m t, result_t = _commonType(a)\n\u001b[32m   2429\u001b[39m signature = \u001b[33m'\u001b[39m\u001b[33mD->D\u001b[39m\u001b[33m'\u001b[39m \u001b[38;5;28;01mif\u001b[39;00m isComplexType(t) \u001b[38;5;28;01melse\u001b[39;00m \u001b[33m'\u001b[39m\u001b[33md->d\u001b[39m\u001b[33m'\u001b[39m\n",
      "\u001b[36mFile \u001b[39m\u001b[32m/Library/Frameworks/Python.framework/Versions/3.13/lib/python3.13/site-packages/numpy/linalg/_linalg.py:261\u001b[39m, in \u001b[36m_assert_stacked_square\u001b[39m\u001b[34m(*arrays)\u001b[39m\n\u001b[32m    259\u001b[39m     m, n = a.shape[-\u001b[32m2\u001b[39m:]\n\u001b[32m    260\u001b[39m \u001b[38;5;28;01mexcept\u001b[39;00m \u001b[38;5;167;01mValueError\u001b[39;00m:\n\u001b[32m--> \u001b[39m\u001b[32m261\u001b[39m     \u001b[38;5;28;01mraise\u001b[39;00m LinAlgError(\u001b[33m'\u001b[39m\u001b[38;5;132;01m%d\u001b[39;00m\u001b[33m-dimensional array given. Array must be \u001b[39m\u001b[33m'\u001b[39m\n\u001b[32m    262\u001b[39m             \u001b[33m'\u001b[39m\u001b[33mat least two-dimensional\u001b[39m\u001b[33m'\u001b[39m % a.ndim)\n\u001b[32m    263\u001b[39m \u001b[38;5;28;01mif\u001b[39;00m m != n:\n\u001b[32m    264\u001b[39m     \u001b[38;5;28;01mraise\u001b[39;00m LinAlgError(\u001b[33m'\u001b[39m\u001b[33mLast 2 dimensions of the array must be square\u001b[39m\u001b[33m'\u001b[39m)\n",
      "\u001b[31mLinAlgError\u001b[39m: 0-dimensional array given. Array must be at least two-dimensional"
     ]
    }
   ],
   "source": [
    "# Matrix multiplication\n",
    "a = np.ones((2,3))\n",
    "b = np.full((3,2), 2)\n",
    "np.matmul(a,b)\n",
    "\n",
    "# Find the determinant\n",
    "c = np.identity(3)\n",
    "np.linalg.det(1)"
   ]
  },
  {
   "cell_type": "markdown",
   "id": "5380f3b5",
   "metadata": {},
   "source": [
    "### Statistics"
   ]
  },
  {
   "cell_type": "code",
   "execution_count": null,
   "id": "6aeab473",
   "metadata": {},
   "outputs": [],
   "source": [
    "stats = np.array([[1,2,3], [4,5,6]])\n",
    "np.min(stats) # general min\n",
    "np.min(stats, axis=1) # min of each row in 2D\n",
    "np.min(stats, axis=0) # min of each column in 2D\n",
    "np.max(stats) # general max\n",
    "np.argmax(stats) # index of max\n",
    "np.sum(stats)\n"
   ]
  },
  {
   "cell_type": "markdown",
   "id": "61a16d3e",
   "metadata": {},
   "source": [
    "## Reorganising arrays"
   ]
  },
  {
   "cell_type": "code",
   "execution_count": null,
   "id": "62474c1c",
   "metadata": {},
   "outputs": [],
   "source": [
    "# Change the array shape\n",
    "before = np.array([[1,2,3,4], [5,6,7,8]])\n",
    "after = before.reshape((8,1))\n",
    "after = before.reshape((2,2,2))\n",
    "after\n",
    "\n",
    "# Vertically stacking vectors\n",
    "v1 = np.array([1,2,3,4])\n",
    "v2 = np.array([5,6,7,8])\n",
    "np.vstack([v1,v2,v1])\n",
    "\n",
    "# Horizontal stack\n",
    "h1 = np.ones((2,4))\n",
    "h2 = np.zeros((2,2))\n",
    "np.hstack([h2,h1]) # or make a tuple with ((h2,h1))\n",
    "\n"
   ]
  }
 ],
 "metadata": {
  "kernelspec": {
   "display_name": "Python 3",
   "language": "python",
   "name": "python3"
  },
  "language_info": {
   "codemirror_mode": {
    "name": "ipython",
    "version": 3
   },
   "file_extension": ".py",
   "mimetype": "text/x-python",
   "name": "python",
   "nbconvert_exporter": "python",
   "pygments_lexer": "ipython3",
   "version": "3.13.1"
  }
 },
 "nbformat": 4,
 "nbformat_minor": 5
}
