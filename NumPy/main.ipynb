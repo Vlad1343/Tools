{
 "cells": [
  {
   "cell_type": "markdown",
   "id": "dd281bf8",
   "metadata": {},
   "source": [
    "# NumPy Playground"
   ]
  },
  {
   "cell_type": "markdown",
   "id": "7835dc27",
   "metadata": {},
   "source": [
    "## Basics"
   ]
  },
  {
   "cell_type": "code",
   "execution_count": null,
   "id": "75d59492",
   "metadata": {},
   "outputs": [],
   "source": [
    "# NumPy is a Python library.\n",
    "# NumPy is used for working with arrays.\n",
    "# NumPy is short for \"Numerical Python\".\n",
    "\n",
    "import numpy as np\n",
    "arr = np.array([1, 2, 3, 4, 5], dtype='int16')\n",
    "print(arr)\n",
    "print(type(arr))\n",
    "\n",
    "arr2 = np.array([[8.0, 9.0, 10.0], [6.0, 7.0, 8.0]])\n",
    "arr2"
   ]
  },
  {
   "cell_type": "code",
   "execution_count": null,
   "id": "215a8110",
   "metadata": {},
   "outputs": [],
   "source": [
    "# Get dimension\n",
    "arr.ndim, arr2.ndim\n",
    "\n",
    "# Get shape\n",
    "arr.shape\n",
    "arr2.shape # 2 rows 3 columns\n",
    "\n",
    "# Get type(memory size)\n",
    "arr.dtype, arr2.dtype\n",
    "\n",
    "# Get size (bytes)\n",
    "arr.itemsize, arr2.itemsize\n",
    "\n",
    "# Get total size\n",
    "arr.size, arr2.size # number of elements\n",
    "\n",
    "arr.size * arr.itemsize, arr2.size * arr2.itemsize # total bytes\n",
    "arr.nbytes, arr2.nbytes # total bytes"
   ]
  },
  {
   "cell_type": "code",
   "execution_count": null,
   "id": "4fb59458",
   "metadata": {},
   "outputs": [],
   "source": [
    "# Convert data types\n",
    "arr = np.array([1.1, 2.7, 3.1])\n",
    "newarr = arr.astype('i') # or (int)\n",
    "print(newarr)\n",
    "\n"
   ]
  },
  {
   "cell_type": "code",
   "execution_count": null,
   "id": "c13cfd75",
   "metadata": {},
   "outputs": [],
   "source": [
    "import numpy as np\n",
    "arr = np.array([1, 2, 3, 4], ndmin=5)\n",
    "print(arr)\n",
    "print('Number of dimensions :', arr.ndim)"
   ]
  },
  {
   "cell_type": "markdown",
   "id": "7e635a5c",
   "metadata": {},
   "source": [
    "## Accessing/Changing"
   ]
  },
  {
   "cell_type": "code",
   "execution_count": null,
   "id": "b8149157",
   "metadata": {},
   "outputs": [],
   "source": [
    "a = np.array([[1,2,3,4,5,6], [7,8,9,10,11,12]])\n",
    "a.shape\n",
    "\n",
    "# Specific element [r, c]\n",
    "print(a[1][5])\n",
    "print(a[1][-1])\n",
    "\n",
    "# Specific row\n",
    "print(a[1, :])\n",
    "\n",
    "# Specific column\n",
    "print(a[:, 4])\n",
    "\n",
    "print(a[0, 1:6:2]) # start:end:stepsize\n",
    "\n",
    "\n",
    "\n",
    "# Change\n",
    "a[1][5] = 20\n",
    "a[1, 1:4] = 5\n",
    "a[:, 2] = [1,2]\n",
    "\n",
    "a"
   ]
  },
  {
   "cell_type": "code",
   "execution_count": null,
   "id": "cb297907",
   "metadata": {},
   "outputs": [],
   "source": [
    "# 3D Example\n",
    "arr = np.array([[[1, 2, 3, 4],[5, 6, 7, 8],[9, 10, 11, 12]]])\n",
    "print(arr)\n",
    "\n",
    "# Specific element (work outside in)\n",
    "print(arr[0][1][2]) # first index stands for a block\n",
    "arr[:,0,:] = [[3,3,4,4]]\n",
    "arr"
   ]
  },
  {
   "cell_type": "markdown",
   "id": "805842ae",
   "metadata": {},
   "source": [
    "## Initialising"
   ]
  },
  {
   "cell_type": "code",
   "execution_count": null,
   "id": "a4852c6d",
   "metadata": {},
   "outputs": [],
   "source": [
    "# All 0s matrix\n",
    "np.zeros(5)\n",
    "np.zeros((2,3))\n",
    "\n",
    "# All 1s matrix\n",
    "np.ones((4,2), dtype='int32')\n",
    "\n",
    "# Any other number\n",
    "np.full((2,2), 99) \n",
    "\n",
    "# Any other number (full_like)\n",
    "np.full(arr.shape, 4) # (shape, value)\n",
    "np.full_like(arr, 4)  # (array, value)\n",
    "\n"
   ]
  },
  {
   "cell_type": "code",
   "execution_count": null,
   "id": "253dee2e",
   "metadata": {},
   "outputs": [],
   "source": [
    "# Random decimal\n",
    "np.random.rand(2,4)\n",
    "np.random.random_sample(arr.shape)\n",
    "\n",
    "# Random integer\n",
    "np.random.randint(3,11, size=(3,3))\n",
    "\n",
    "# Identity matrix\n",
    "np.identity(4)\n",
    "\n",
    "# Repeat an array\n",
    "arr1 = np.array([1,2,3]) # [1 1 1 2 2 2 3 3 3]\n",
    "r1 = np.repeat(arr1, 3)\n",
    "print(r1)\n",
    "\n",
    "arr1 = np.array([[1,2,3]])\n",
    "r1 = np.repeat(arr1, 3, axis=0)           \n",
    "print(r1)\n",
    "\n"
   ]
  },
  {
   "cell_type": "markdown",
   "id": "920e65e0",
   "metadata": {},
   "source": [
    "## Exercises"
   ]
  },
  {
   "cell_type": "code",
   "execution_count": null,
   "id": "7c0d6cdc",
   "metadata": {},
   "outputs": [],
   "source": [
    "# Ex 1\n",
    "r1 = np.repeat(np.array([1]), 5)\n",
    "arr = np.array([[r1,[1, 0, 0, 0, 1],[1, 0, 9, 0, 1], [1, 0, 0, 0, 1], r1]])\n",
    "arr\n",
    "\n",
    "output = np.ones((5,5))\n",
    "zero = np.zeros((3,3))\n",
    "zero[1,1] = 9\n",
    "output[1:-1, 1:-1] = zero\n",
    "output\n",
    "\n",
    "\n",
    "\n",
    "# Ex 2; \n",
    "# • The border is filled with 3s. \n",
    "# • The inside (all non-border cells) is filled with 1s. \n",
    "# • The very center of the array is 0.\n",
    "\n",
    "arr = np.full((7,7), 3)\n",
    "ones = np.ones((5,5))\n",
    "arr[1:-1, 1:-1] = ones\n",
    "arr[3,3] = 5\n",
    "arr\n",
    "\n",
    "\n",
    "# Ex 3;\n",
    "# Create a 9×9 array filled with 0s.\n",
    "\t# •\tThe outer border should be 2s.\n",
    "\t# •\tThe next inner border should be 1s.\n",
    "\t# •\tThe center (the 5×5 part) should stay 0.\n",
    "\n",
    "arr = np.full((9,9), 2)\n",
    "arr[1:-1, 1:-1] = np.ones((7,7))\n",
    "arr[2:-2, 2:-2] = np.zeros((5,5))\n",
    "arr\n",
    "\n",
    "\n",
    "# Ex 4;\n",
    "# Create a 7x7 array filled with 0s\n",
    "# • Cross Pattern (7×7)\n",
    "\n",
    "arr = np.zeros((7,7))\n",
    "for i in range(7):\n",
    "    arr[i, i] = 7\n",
    "    arr[i, 6 - i] = 7\n",
    "arr"
   ]
  },
  {
   "cell_type": "markdown",
   "id": "ee465b1d",
   "metadata": {},
   "source": [
    "## Other"
   ]
  },
  {
   "cell_type": "code",
   "execution_count": null,
   "id": "13f016d1",
   "metadata": {},
   "outputs": [],
   "source": [
    "# Be careful when copying arrays!!\n",
    "\n",
    "# Wrong way\n",
    "arr = np.array([1,2,3])\n",
    "arr2 = arr # arr2 points to the same memory as arr\n",
    "arr2[0] = 100\n",
    "arr,arr2\n",
    "\n",
    "\n",
    "# Right way\n",
    "a = np.array([1,2,3])\n",
    "b = a.copy()\n",
    "b[0] = 100\n",
    "a, b\n"
   ]
  },
  {
   "cell_type": "markdown",
   "id": "79eb8dc9",
   "metadata": {},
   "source": [
    "## Mathematics"
   ]
  },
  {
   "cell_type": "code",
   "execution_count": 397,
   "id": "cb8b6809",
   "metadata": {},
   "outputs": [
    {
     "data": {
      "text/plain": [
       "array([ 0.84147098,  0.90929743,  0.14112001, -0.7568025 ])"
      ]
     },
     "execution_count": 397,
     "metadata": {},
     "output_type": "execute_result"
    }
   ],
   "source": [
    "a = np.array([1,2,3,4])\n",
    "a + 2 # add 2 to every element\n",
    "\n",
    "b = np.array([1,0,1,0]) # add to arrays\n",
    "a+b\n",
    "\n",
    "np.sin(a)\n"
   ]
  },
  {
   "cell_type": "markdown",
   "id": "a30635f4",
   "metadata": {},
   "source": [
    "### Linear Algerba"
   ]
  },
  {
   "cell_type": "code",
   "execution_count": null,
   "id": "1483451d",
   "metadata": {},
   "outputs": [],
   "source": []
  }
 ],
 "metadata": {
  "kernelspec": {
   "display_name": "Python 3",
   "language": "python",
   "name": "python3"
  },
  "language_info": {
   "codemirror_mode": {
    "name": "ipython",
    "version": 3
   },
   "file_extension": ".py",
   "mimetype": "text/x-python",
   "name": "python",
   "nbconvert_exporter": "python",
   "pygments_lexer": "ipython3",
   "version": "3.13.1"
  }
 },
 "nbformat": 4,
 "nbformat_minor": 5
}
