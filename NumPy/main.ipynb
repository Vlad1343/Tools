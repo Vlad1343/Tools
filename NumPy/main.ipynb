{
 "cells": [
  {
   "cell_type": "code",
   "execution_count": 12,
   "id": "6d687a1d",
   "metadata": {},
   "outputs": [],
   "source": [
    "# NumPy Playground\n",
    "# Basics"
   ]
  },
  {
   "cell_type": "code",
   "execution_count": 13,
   "id": "75d59492",
   "metadata": {},
   "outputs": [
    {
     "name": "stdout",
     "output_type": "stream",
     "text": [
      "[1 2 3 4 5]\n",
      "<class 'numpy.ndarray'>\n"
     ]
    },
    {
     "data": {
      "text/plain": [
       "array([[ 8.,  9., 10.],\n",
       "       [ 6.,  7.,  8.]])"
      ]
     },
     "execution_count": 13,
     "metadata": {},
     "output_type": "execute_result"
    }
   ],
   "source": [
    "# NumPy is a Python library.\n",
    "# NumPy is used for working with arrays.\n",
    "# NumPy is short for \"Numerical Python\".\n",
    "\n",
    "import numpy as np\n",
    "arr = np.array([1, 2, 3, 4, 5], dtype='int16')\n",
    "print(arr)\n",
    "print(type(arr))\n",
    "\n",
    "arr2 = np.array([[8.0, 9.0, 10.0], [6.0, 7.0, 8.0]])\n",
    "arr2"
   ]
  },
  {
   "cell_type": "code",
   "execution_count": 14,
   "id": "215a8110",
   "metadata": {},
   "outputs": [
    {
     "data": {
      "text/plain": [
       "(10, 48)"
      ]
     },
     "execution_count": 14,
     "metadata": {},
     "output_type": "execute_result"
    }
   ],
   "source": [
    "# Get dimension\n",
    "arr.ndim, arr2.ndim\n",
    "\n",
    "# Get shape\n",
    "arr.shape\n",
    "arr2.shape # 2 rows 3 columns\n",
    "\n",
    "# Get type(memory size)\n",
    "arr.dtype, arr2.dtype\n",
    "\n",
    "# Get size (bytes)\n",
    "arr.itemsize, arr2.itemsize\n",
    "\n",
    "# Get total size\n",
    "arr.size, arr2.size # number of elements\n",
    "\n",
    "arr.size * arr.itemsize, arr2.size * arr2.itemsize # total bytes\n",
    "arr.nbytes, arr2.nbytes # total bytes"
   ]
  },
  {
   "cell_type": "code",
   "execution_count": 15,
   "id": "4fb59458",
   "metadata": {},
   "outputs": [
    {
     "name": "stdout",
     "output_type": "stream",
     "text": [
      "[1 2 3]\n"
     ]
    }
   ],
   "source": [
    "# Convert data types\n",
    "arr = np.array([1.1, 2.7, 3.1])\n",
    "newarr = arr.astype('i') # or (int)\n",
    "print(newarr)\n",
    "\n"
   ]
  },
  {
   "cell_type": "code",
   "execution_count": 16,
   "id": "c13cfd75",
   "metadata": {},
   "outputs": [
    {
     "name": "stdout",
     "output_type": "stream",
     "text": [
      "[[[[[1 2 3 4]]]]]\n",
      "Number of dimensions : 5\n"
     ]
    }
   ],
   "source": [
    "import numpy as np\n",
    "arr = np.array([1, 2, 3, 4], ndmin=5)\n",
    "print(arr)\n",
    "print('Number of dimensions :', arr.ndim)"
   ]
  },
  {
   "cell_type": "code",
   "execution_count": 17,
   "id": "650defb9",
   "metadata": {},
   "outputs": [],
   "source": [
    "# Accessing/Changing"
   ]
  },
  {
   "cell_type": "code",
   "execution_count": 18,
   "id": "b8149157",
   "metadata": {},
   "outputs": [
    {
     "name": "stdout",
     "output_type": "stream",
     "text": [
      "12\n",
      "12\n",
      "[ 7  8  9 10 11 12]\n",
      "[ 5 11]\n",
      "[2 4 6]\n"
     ]
    },
    {
     "data": {
      "text/plain": [
       "array([[ 1,  2,  1,  4,  5,  6],\n",
       "       [ 7,  5,  2,  5, 11, 20]])"
      ]
     },
     "execution_count": 18,
     "metadata": {},
     "output_type": "execute_result"
    }
   ],
   "source": [
    "a = np.array([[1,2,3,4,5,6], [7,8,9,10,11,12]])\n",
    "a.shape\n",
    "\n",
    "# Specific element [r, c]\n",
    "print(a[1][5])\n",
    "print(a[1][-1])\n",
    "\n",
    "# Specific row\n",
    "print(a[1, :])\n",
    "\n",
    "# Specific column\n",
    "print(a[:, 4])\n",
    "\n",
    "print(a[0, 1:6:2]) # start:end:stepsize\n",
    "\n",
    "\n",
    "\n",
    "# Change\n",
    "a[1][5] = 20\n",
    "a[1, 1:4] = 5\n",
    "a[:, 2] = [1,2]\n",
    "\n",
    "a"
   ]
  },
  {
   "cell_type": "code",
   "execution_count": 19,
   "id": "cb297907",
   "metadata": {},
   "outputs": [
    {
     "name": "stdout",
     "output_type": "stream",
     "text": [
      "[[[ 1  2  3  4]\n",
      "  [ 5  6  7  8]\n",
      "  [ 9 10 11 12]]]\n",
      "7\n"
     ]
    },
    {
     "data": {
      "text/plain": [
       "array([[[ 3,  3,  4,  4],\n",
       "        [ 5,  6,  7,  8],\n",
       "        [ 9, 10, 11, 12]]])"
      ]
     },
     "execution_count": 19,
     "metadata": {},
     "output_type": "execute_result"
    }
   ],
   "source": [
    "# 3D Example\n",
    "arr = np.array([[[1, 2, 3, 4],[5, 6, 7, 8],[9, 10, 11, 12]]])\n",
    "print(arr)\n",
    "\n",
    "# Specific element (work outside in)\n",
    "print(arr[0][1][2]) # first index stands for a block\n",
    "arr[:,0,:] = [[3,3,4,4]]\n",
    "arr"
   ]
  },
  {
   "cell_type": "code",
   "execution_count": 20,
   "id": "87269216",
   "metadata": {},
   "outputs": [],
   "source": [
    "# Initialising"
   ]
  },
  {
   "cell_type": "code",
   "execution_count": 21,
   "id": "a4852c6d",
   "metadata": {},
   "outputs": [
    {
     "data": {
      "text/plain": [
       "array([[[4, 4, 4, 4],\n",
       "        [4, 4, 4, 4],\n",
       "        [4, 4, 4, 4]]])"
      ]
     },
     "execution_count": 21,
     "metadata": {},
     "output_type": "execute_result"
    }
   ],
   "source": [
    "# All 0s matrix\n",
    "np.zeros(5)\n",
    "np.zeros((2,3))\n",
    "\n",
    "# All 1s matrix\n",
    "np.ones((4,2), dtype='int32')\n",
    "\n",
    "# Any other number\n",
    "np.full((2,2), 99) \n",
    "\n",
    "# Any other number (full_like)\n",
    "np.full(arr.shape, 4) # (shape, value)\n",
    "np.full_like(arr, 4)  # (array, value)\n",
    "\n"
   ]
  },
  {
   "cell_type": "code",
   "execution_count": null,
   "id": "253dee2e",
   "metadata": {},
   "outputs": [
    {
     "name": "stdout",
     "output_type": "stream",
     "text": [
      "[1 1 1 2 2 2 3 3 3]\n",
      "[[1 2 3]\n",
      " [1 2 3]\n",
      " [1 2 3]]\n"
     ]
    }
   ],
   "source": [
    "# Random decimal\n",
    "np.random.rand(2,4)\n",
    "np.random.random_sample(arr.shape)\n",
    "\n",
    "# Random integer\n",
    "np.random.randint(3,11, size=(3,3))\n",
    "\n",
    "# Identity matrix\n",
    "np.identity(4)\n",
    "\n",
    "# Repeat an array\n",
    "arr1 = np.array([1,2,3]) # [1 1 1 2 2 2 3 3 3]\n",
    "r1 = np.repeat(arr1, 3)\n",
    "print(r1)\n",
    "\n",
    "arr1 = np.array([[1,2,3]])\n",
    "r1 = np.repeat(arr1, 3, axis=0)           \n",
    "print(r1)\n",
    "\n"
   ]
  }
 ],
 "metadata": {
  "kernelspec": {
   "display_name": "Python 3",
   "language": "python",
   "name": "python3"
  },
  "language_info": {
   "codemirror_mode": {
    "name": "ipython",
    "version": 3
   },
   "file_extension": ".py",
   "mimetype": "text/x-python",
   "name": "python",
   "nbconvert_exporter": "python",
   "pygments_lexer": "ipython3",
   "version": "3.13.1"
  }
 },
 "nbformat": 4,
 "nbformat_minor": 5
}
