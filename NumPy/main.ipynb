{
 "cells": [
  {
   "cell_type": "code",
   "execution_count": null,
   "id": "75d59492",
   "metadata": {},
   "outputs": [],
   "source": [
    "# NumPy is a Python library.\n",
    "# NumPy is used for working with arrays.\n",
    "# NumPy is short for \"Numerical Python\".\n",
    "\n",
    "import numpy as np\n",
    "arr = np.array([1, 2, 3, 4, 5], dtype='int16')\n",
    "print(arr)\n",
    "print(type(arr))\n",
    "\n",
    "arr2 = np.array([[8.0, 9.0, 10.0], [6.0, 7.0, 8.0]])\n",
    "arr2"
   ]
  },
  {
   "cell_type": "code",
   "execution_count": null,
   "id": "215a8110",
   "metadata": {},
   "outputs": [],
   "source": [
    "# Get dimension\n",
    "arr.ndim, arr2.ndim\n",
    "\n",
    "# Get shape\n",
    "arr.shape\n",
    "arr2.shape # 2 rows 3 columns\n",
    "\n",
    "# Get type(memory size)\n",
    "arr.dtype, arr2.dtype\n",
    "\n",
    "# Get size (bytes)\n",
    "arr.itemsize, arr2.itemsize\n",
    "\n",
    "# Get total size\n",
    "arr.size, arr2.size # number of elements\n",
    "\n",
    "arr.size * arr.itemsize, arr2.size * arr2.itemsize # total bytes\n",
    "arr.nbytes, arr2.nbytes # total bytes"
   ]
  }
 ],
 "metadata": {
  "kernelspec": {
   "display_name": "Python 3",
   "language": "python",
   "name": "python3"
  },
  "language_info": {
   "codemirror_mode": {
    "name": "ipython",
    "version": 3
   },
   "file_extension": ".py",
   "mimetype": "text/x-python",
   "name": "python",
   "nbconvert_exporter": "python",
   "pygments_lexer": "ipython3",
   "version": "3.13.1"
  }
 },
 "nbformat": 4,
 "nbformat_minor": 5
}
